{
 "cells": [
  {
   "cell_type": "markdown",
   "metadata": {},
   "source": [
    "# 笹川真生とキタニタツヤの顔画像を見分けるAIを作る(CNN)\n",
    "笹川真生 -> https://www.youtube.com/channel/UCd0oSpX1KiQ0pBl8g4XcwOQ/videos  \n",
    "キタニタツヤ -> https://www.youtube.com/channel/UCgP3GbgbuVzAhlctGU5yuPA"
   ]
  },
  {
   "cell_type": "markdown",
   "metadata": {},
   "source": [
    "# 前準備"
   ]
  },
  {
   "cell_type": "code",
   "execution_count": 104,
   "metadata": {},
   "outputs": [],
   "source": [
    "import numpy as np\n",
    "import pandas as pd\n",
    "import glob"
   ]
  },
  {
   "cell_type": "code",
   "execution_count": 105,
   "metadata": {},
   "outputs": [
    {
     "data": {
      "text/plain": [
       "['D:/mao\\\\mao(1).jpg',\n",
       " 'D:/mao\\\\mao(10).jpg',\n",
       " 'D:/mao\\\\mao(100).jpg',\n",
       " 'D:/mao\\\\mao(101).jpg',\n",
       " 'D:/mao\\\\mao(102).jpg',\n",
       " 'D:/mao\\\\mao(103).jpg',\n",
       " 'D:/mao\\\\mao(104).jpg',\n",
       " 'D:/mao\\\\mao(105).jpg',\n",
       " 'D:/mao\\\\mao(106).jpg',\n",
       " 'D:/mao\\\\mao(107).jpg',\n",
       " 'D:/mao\\\\mao(108).jpg',\n",
       " 'D:/mao\\\\mao(109).jpg',\n",
       " 'D:/mao\\\\mao(11).jpg',\n",
       " 'D:/mao\\\\mao(110).jpg',\n",
       " 'D:/mao\\\\mao(111).jpg',\n",
       " 'D:/mao\\\\mao(112).jpg',\n",
       " 'D:/mao\\\\mao(113).jpg',\n",
       " 'D:/mao\\\\mao(114).jpg',\n",
       " 'D:/mao\\\\mao(115).jpg',\n",
       " 'D:/mao\\\\mao(116).jpg',\n",
       " 'D:/mao\\\\mao(117).jpg',\n",
       " 'D:/mao\\\\mao(118).jpg',\n",
       " 'D:/mao\\\\mao(119).jpg',\n",
       " 'D:/mao\\\\mao(12).jpg',\n",
       " 'D:/mao\\\\mao(120).jpg',\n",
       " 'D:/mao\\\\mao(121).jpg',\n",
       " 'D:/mao\\\\mao(122).jpg',\n",
       " 'D:/mao\\\\mao(123).jpg',\n",
       " 'D:/mao\\\\mao(124).jpg',\n",
       " 'D:/mao\\\\mao(125).jpg',\n",
       " 'D:/mao\\\\mao(126).jpg',\n",
       " 'D:/mao\\\\mao(127).jpg',\n",
       " 'D:/mao\\\\mao(128).jpg',\n",
       " 'D:/mao\\\\mao(129).jpg',\n",
       " 'D:/mao\\\\mao(13).jpg',\n",
       " 'D:/mao\\\\mao(130).jpg',\n",
       " 'D:/mao\\\\mao(131).jpg',\n",
       " 'D:/mao\\\\mao(132).jpg',\n",
       " 'D:/mao\\\\mao(133).jpg',\n",
       " 'D:/mao\\\\mao(134).jpg',\n",
       " 'D:/mao\\\\mao(135).jpg',\n",
       " 'D:/mao\\\\mao(136).jpg',\n",
       " 'D:/mao\\\\mao(137).jpg',\n",
       " 'D:/mao\\\\mao(138).jpg',\n",
       " 'D:/mao\\\\mao(139).jpg',\n",
       " 'D:/mao\\\\mao(14).jpg',\n",
       " 'D:/mao\\\\mao(140).jpg',\n",
       " 'D:/mao\\\\mao(141).jpg',\n",
       " 'D:/mao\\\\mao(142).jpg',\n",
       " 'D:/mao\\\\mao(143).jpg',\n",
       " 'D:/mao\\\\mao(144).jpg',\n",
       " 'D:/mao\\\\mao(145).jpg',\n",
       " 'D:/mao\\\\mao(146).jpg',\n",
       " 'D:/mao\\\\mao(147).jpg',\n",
       " 'D:/mao\\\\mao(148).jpg',\n",
       " 'D:/mao\\\\mao(149).jpg',\n",
       " 'D:/mao\\\\mao(15).jpg',\n",
       " 'D:/mao\\\\mao(150).jpg',\n",
       " 'D:/mao\\\\mao(151).jpg',\n",
       " 'D:/mao\\\\mao(152).jpg',\n",
       " 'D:/mao\\\\mao(153).jpg',\n",
       " 'D:/mao\\\\mao(154).jpg',\n",
       " 'D:/mao\\\\mao(155).jpg',\n",
       " 'D:/mao\\\\mao(156).jpg',\n",
       " 'D:/mao\\\\mao(157).jpg',\n",
       " 'D:/mao\\\\mao(158).jpg',\n",
       " 'D:/mao\\\\mao(159).jpg',\n",
       " 'D:/mao\\\\mao(16).jpg',\n",
       " 'D:/mao\\\\mao(160).jpg',\n",
       " 'D:/mao\\\\mao(161).jpg',\n",
       " 'D:/mao\\\\mao(162).jpg',\n",
       " 'D:/mao\\\\mao(163).jpg',\n",
       " 'D:/mao\\\\mao(164).jpg',\n",
       " 'D:/mao\\\\mao(165).jpg',\n",
       " 'D:/mao\\\\mao(166).jpg',\n",
       " 'D:/mao\\\\mao(167).jpg',\n",
       " 'D:/mao\\\\mao(168).jpg',\n",
       " 'D:/mao\\\\mao(169).jpg',\n",
       " 'D:/mao\\\\mao(17).jpg',\n",
       " 'D:/mao\\\\mao(170).jpg',\n",
       " 'D:/mao\\\\mao(171).jpg',\n",
       " 'D:/mao\\\\mao(172).jpg',\n",
       " 'D:/mao\\\\mao(173).jpg',\n",
       " 'D:/mao\\\\mao(174).jpg',\n",
       " 'D:/mao\\\\mao(175).jpg',\n",
       " 'D:/mao\\\\mao(176).jpg',\n",
       " 'D:/mao\\\\mao(177).jpg',\n",
       " 'D:/mao\\\\mao(178).jpg',\n",
       " 'D:/mao\\\\mao(179).jpg',\n",
       " 'D:/mao\\\\mao(18).jpg',\n",
       " 'D:/mao\\\\mao(180).jpg',\n",
       " 'D:/mao\\\\mao(181).jpg',\n",
       " 'D:/mao\\\\mao(182).jpg',\n",
       " 'D:/mao\\\\mao(183).jpg',\n",
       " 'D:/mao\\\\mao(184).jpg',\n",
       " 'D:/mao\\\\mao(185).jpg',\n",
       " 'D:/mao\\\\mao(186).jpg',\n",
       " 'D:/mao\\\\mao(187).jpg',\n",
       " 'D:/mao\\\\mao(188).jpg',\n",
       " 'D:/mao\\\\mao(189).jpg',\n",
       " 'D:/mao\\\\mao(19).jpg',\n",
       " 'D:/mao\\\\mao(190).jpg',\n",
       " 'D:/mao\\\\mao(191).jpg',\n",
       " 'D:/mao\\\\mao(192).jpg',\n",
       " 'D:/mao\\\\mao(193).jpg',\n",
       " 'D:/mao\\\\mao(194).jpg',\n",
       " 'D:/mao\\\\mao(195).jpg',\n",
       " 'D:/mao\\\\mao(196).jpg',\n",
       " 'D:/mao\\\\mao(197).jpg',\n",
       " 'D:/mao\\\\mao(198).jpg',\n",
       " 'D:/mao\\\\mao(199).jpg',\n",
       " 'D:/mao\\\\mao(2).jpg',\n",
       " 'D:/mao\\\\mao(20).jpg',\n",
       " 'D:/mao\\\\mao(200).jpg',\n",
       " 'D:/mao\\\\mao(21).jpg',\n",
       " 'D:/mao\\\\mao(22).jpg',\n",
       " 'D:/mao\\\\mao(23).jpg',\n",
       " 'D:/mao\\\\mao(24).jpg',\n",
       " 'D:/mao\\\\mao(25).jpg',\n",
       " 'D:/mao\\\\mao(26).jpg',\n",
       " 'D:/mao\\\\mao(27).jpg',\n",
       " 'D:/mao\\\\mao(28).jpg',\n",
       " 'D:/mao\\\\mao(29).jpg',\n",
       " 'D:/mao\\\\mao(3).jpg',\n",
       " 'D:/mao\\\\mao(30).jpg',\n",
       " 'D:/mao\\\\mao(31).jpg',\n",
       " 'D:/mao\\\\mao(32).jpg',\n",
       " 'D:/mao\\\\mao(33).jpg',\n",
       " 'D:/mao\\\\mao(34).jpg',\n",
       " 'D:/mao\\\\mao(35).jpg',\n",
       " 'D:/mao\\\\mao(36).jpg',\n",
       " 'D:/mao\\\\mao(37).jpg',\n",
       " 'D:/mao\\\\mao(38).jpg',\n",
       " 'D:/mao\\\\mao(39).jpg',\n",
       " 'D:/mao\\\\mao(4).jpg',\n",
       " 'D:/mao\\\\mao(40).jpg',\n",
       " 'D:/mao\\\\mao(41).jpg',\n",
       " 'D:/mao\\\\mao(42).jpg',\n",
       " 'D:/mao\\\\mao(43).jpg',\n",
       " 'D:/mao\\\\mao(44).jpg',\n",
       " 'D:/mao\\\\mao(45).jpg',\n",
       " 'D:/mao\\\\mao(46).jpg',\n",
       " 'D:/mao\\\\mao(47).jpg',\n",
       " 'D:/mao\\\\mao(48).jpg',\n",
       " 'D:/mao\\\\mao(49).jpg',\n",
       " 'D:/mao\\\\mao(5).jpg',\n",
       " 'D:/mao\\\\mao(50).jpg',\n",
       " 'D:/mao\\\\mao(51).jpg',\n",
       " 'D:/mao\\\\mao(52).jpg',\n",
       " 'D:/mao\\\\mao(53).jpg',\n",
       " 'D:/mao\\\\mao(54).jpg',\n",
       " 'D:/mao\\\\mao(55).jpg',\n",
       " 'D:/mao\\\\mao(56).jpg',\n",
       " 'D:/mao\\\\mao(57).jpg',\n",
       " 'D:/mao\\\\mao(58).jpg',\n",
       " 'D:/mao\\\\mao(59).jpg',\n",
       " 'D:/mao\\\\mao(6).jpg',\n",
       " 'D:/mao\\\\mao(60).jpg',\n",
       " 'D:/mao\\\\mao(61).jpg',\n",
       " 'D:/mao\\\\mao(62).jpg',\n",
       " 'D:/mao\\\\mao(63).jpg',\n",
       " 'D:/mao\\\\mao(64).jpg',\n",
       " 'D:/mao\\\\mao(65).jpg',\n",
       " 'D:/mao\\\\mao(66).jpg',\n",
       " 'D:/mao\\\\mao(67).jpg',\n",
       " 'D:/mao\\\\mao(68).jpg',\n",
       " 'D:/mao\\\\mao(69).jpg',\n",
       " 'D:/mao\\\\mao(7).jpg',\n",
       " 'D:/mao\\\\mao(70).jpg',\n",
       " 'D:/mao\\\\mao(71).jpg',\n",
       " 'D:/mao\\\\mao(72).jpg',\n",
       " 'D:/mao\\\\mao(73).jpg',\n",
       " 'D:/mao\\\\mao(74).jpg',\n",
       " 'D:/mao\\\\mao(75).jpg',\n",
       " 'D:/mao\\\\mao(76).jpg',\n",
       " 'D:/mao\\\\mao(77).jpg',\n",
       " 'D:/mao\\\\mao(78).jpg',\n",
       " 'D:/mao\\\\mao(79).jpg',\n",
       " 'D:/mao\\\\mao(8).jpg',\n",
       " 'D:/mao\\\\mao(80).jpg',\n",
       " 'D:/mao\\\\mao(81).jpg',\n",
       " 'D:/mao\\\\mao(82).jpg',\n",
       " 'D:/mao\\\\mao(83).jpg',\n",
       " 'D:/mao\\\\mao(84).jpg',\n",
       " 'D:/mao\\\\mao(85).jpg',\n",
       " 'D:/mao\\\\mao(86).jpg',\n",
       " 'D:/mao\\\\mao(87).jpg',\n",
       " 'D:/mao\\\\mao(88).jpg',\n",
       " 'D:/mao\\\\mao(89).jpg',\n",
       " 'D:/mao\\\\mao(9).jpg',\n",
       " 'D:/mao\\\\mao(90).jpg',\n",
       " 'D:/mao\\\\mao(91).jpg',\n",
       " 'D:/mao\\\\mao(92).jpg',\n",
       " 'D:/mao\\\\mao(93).jpg',\n",
       " 'D:/mao\\\\mao(94).jpg',\n",
       " 'D:/mao\\\\mao(95).jpg',\n",
       " 'D:/mao\\\\mao(96).jpg',\n",
       " 'D:/mao\\\\mao(97).jpg',\n",
       " 'D:/mao\\\\mao(98).jpg',\n",
       " 'D:/mao\\\\mao(99).jpg']"
      ]
     },
     "execution_count": 105,
     "metadata": {},
     "output_type": "execute_result"
    }
   ],
   "source": [
    "# .jpgのファイル全てのpathをリストに格納\n",
    "jpg_mao = glob.glob(\"D:/mao/*.jpg\")\n",
    "jpg_mao"
   ]
  },
  {
   "cell_type": "code",
   "execution_count": 106,
   "metadata": {},
   "outputs": [
    {
     "name": "stdout",
     "output_type": "stream",
     "text": [
      "(200,)\n"
     ]
    }
   ],
   "source": [
    "# 読み込んだファイルの数を確認\n",
    "print(np.array(jpg_mao).shape)"
   ]
  },
  {
   "cell_type": "code",
   "execution_count": 107,
   "metadata": {},
   "outputs": [],
   "source": [
    "import matplotlib.pyplot as plt\n",
    "import cv2"
   ]
  },
  {
   "cell_type": "code",
   "execution_count": 113,
   "metadata": {},
   "outputs": [
    {
     "data": {
      "image/png": "[encoded data removed]",
      "text/plain": [
       "<Figure size 432x288 with 1 Axes>"
      ]
     },
     "metadata": {
      "needs_background": "light"
     },
     "output_type": "display_data"
    }
   ],
   "source": [
    "# 画像を50x50で表示\n",
    "img = cv2.imread(\"D:/mao\\\\mao(107).jpg\")\n",
    "img = cv2.cvtColor(img, cv2.COLOR_BGR2RGB)    # BGRで読み込まれているのでRGBに変換しなおす\n",
    "img = cv2.resize(img, (50, 50))    # 50x50にリサイズ\n",
    "\n",
    "plt.imshow(img)\n",
    "plt.show()"
   ]
  },
  {
   "cell_type": "code",
   "execution_count": 114,
   "metadata": {},
   "outputs": [
    {
     "data": {
      "text/plain": [
       "array([[[253, 254, 255],\n",
       "        [253, 254, 255],\n",
       "        [253, 254, 255],\n",
       "        ...,\n",
       "        [158, 158, 151],\n",
       "        [162, 158, 153],\n",
       "        [200, 201, 194]],\n",
       "\n",
       "       [[253, 254, 255],\n",
       "        [253, 254, 255],\n",
       "        [253, 254, 255],\n",
       "        ...,\n",
       "        [161, 161, 153],\n",
       "        [164, 163, 158],\n",
       "        [218, 217, 214]],\n",
       "\n",
       "       [[253, 254, 255],\n",
       "        [253, 254, 255],\n",
       "        [253, 254, 255],\n",
       "        ...,\n",
       "        [161, 160, 151],\n",
       "        [181, 181, 173],\n",
       "        [216, 217, 214]],\n",
       "\n",
       "       ...,\n",
       "\n",
       "       [[198, 192, 196],\n",
       "        [210, 208, 213],\n",
       "        [211, 214, 225],\n",
       "        ...,\n",
       "        [186, 185, 183],\n",
       "        [182, 180, 181],\n",
       "        [158, 156, 157]],\n",
       "\n",
       "       [[185, 173, 171],\n",
       "        [209, 203, 207],\n",
       "        [207, 206, 212],\n",
       "        ...,\n",
       "        [177, 177, 179],\n",
       "        [158, 157, 155],\n",
       "        [139, 138, 136]],\n",
       "\n",
       "       [[179, 164, 159],\n",
       "        [209, 203, 207],\n",
       "        [200, 201, 206],\n",
       "        ...,\n",
       "        [166, 164, 165],\n",
       "        [148, 147, 145],\n",
       "        [122, 121, 119]]], dtype=uint8)"
      ]
     },
     "execution_count": 114,
     "metadata": {},
     "output_type": "execute_result"
    }
   ],
   "source": [
    "img"
   ]
  },
  {
   "cell_type": "code",
   "execution_count": 115,
   "metadata": {},
   "outputs": [
    {
     "data": {
      "text/plain": [
       "(50, 50, 3)"
      ]
     },
     "execution_count": 115,
     "metadata": {},
     "output_type": "execute_result"
    }
   ],
   "source": [
    "img.shape"
   ]
  },
  {
   "cell_type": "code",
   "execution_count": 116,
   "metadata": {},
   "outputs": [
    {
     "data": {
      "image/png": "[encoded data removed]",
      "text/plain": [
       "<Figure size 432x288 with 1 Axes>"
      ]
     },
     "metadata": {
      "needs_background": "light"
     },
     "output_type": "display_data"
    }
   ],
   "source": [
    "# 画像の回転\n",
    "center = (25, 25) # 回転の中心\n",
    "angle = - 10.0     # 回転の角度 \n",
    "scale = 1.0       # 変化後の大きさ\n",
    "\n",
    "trans = cv2.getRotationMatrix2D(center, angle, scale)\n",
    "img_rotate = cv2.warpAffine(img, trans, (50, 50))\n",
    "\n",
    "plt.imshow(img_rotate)\n",
    "plt.show()"
   ]
  },
  {
   "cell_type": "code",
   "execution_count": 118,
   "metadata": {},
   "outputs": [
    {
     "data": {
      "image/png": "[encoded data removed]",
      "text/plain": [
       "<Figure size 432x288 with 1 Axes>"
      ]
     },
     "metadata": {
      "needs_background": "light"
     },
     "output_type": "display_data"
    }
   ],
   "source": [
    "# 画像の回転\n",
    "center = (25, 25) # 回転の中心\n",
    "angle = 5.0     # 回転の角度 \n",
    "scale = 1.1     # 変化後の大きさ\n",
    "\n",
    "trans = cv2.getRotationMatrix2D(center, angle, scale)\n",
    "img_rotate = cv2.warpAffine(img, trans, (50, 50))\n",
    "\n",
    "plt.imshow(img_rotate)\n",
    "plt.show()"
   ]
  },
  {
   "cell_type": "markdown",
   "metadata": {},
   "source": [
    "# maoデータ拡張"
   ]
  },
  {
   "cell_type": "code",
   "execution_count": 1,
   "metadata": {},
   "outputs": [],
   "source": [
    "import numpy as np\n",
    "import pandas as pd\n",
    "import glob\n",
    "import cv2"
   ]
  },
  {
   "cell_type": "code",
   "execution_count": 2,
   "metadata": {},
   "outputs": [
    {
     "data": {
      "text/plain": [
       "['C:/Users/kisho/Desktop/mao\\\\mao(1).jpg',\n",
       " 'C:/Users/kisho/Desktop/mao\\\\mao(10).jpg',\n",
       " 'C:/Users/kisho/Desktop/mao\\\\mao(100).jpg',\n",
       " 'C:/Users/kisho/Desktop/mao\\\\mao(101).jpg',\n",
       " 'C:/Users/kisho/Desktop/mao\\\\mao(102).jpg',\n",
       " 'C:/Users/kisho/Desktop/mao\\\\mao(103).jpg',\n",
       " 'C:/Users/kisho/Desktop/mao\\\\mao(104).jpg',\n",
       " 'C:/Users/kisho/Desktop/mao\\\\mao(105).jpg',\n",
       " 'C:/Users/kisho/Desktop/mao\\\\mao(106).jpg',\n",
       " 'C:/Users/kisho/Desktop/mao\\\\mao(107).jpg',\n",
       " 'C:/Users/kisho/Desktop/mao\\\\mao(108).jpg',\n",
       " 'C:/Users/kisho/Desktop/mao\\\\mao(109).jpg',\n",
       " 'C:/Users/kisho/Desktop/mao\\\\mao(11).jpg',\n",
       " 'C:/Users/kisho/Desktop/mao\\\\mao(110).jpg',\n",
       " 'C:/Users/kisho/Desktop/mao\\\\mao(111).jpg',\n",
       " 'C:/Users/kisho/Desktop/mao\\\\mao(112).jpg',\n",
       " 'C:/Users/kisho/Desktop/mao\\\\mao(113).jpg',\n",
       " 'C:/Users/kisho/Desktop/mao\\\\mao(114).jpg',\n",
       " 'C:/Users/kisho/Desktop/mao\\\\mao(115).jpg',\n",
       " 'C:/Users/kisho/Desktop/mao\\\\mao(116).jpg',\n",
       " 'C:/Users/kisho/Desktop/mao\\\\mao(117).jpg',\n",
       " 'C:/Users/kisho/Desktop/mao\\\\mao(118).jpg',\n",
       " 'C:/Users/kisho/Desktop/mao\\\\mao(119).jpg',\n",
       " 'C:/Users/kisho/Desktop/mao\\\\mao(12).jpg',\n",
       " 'C:/Users/kisho/Desktop/mao\\\\mao(120).jpg',\n",
       " 'C:/Users/kisho/Desktop/mao\\\\mao(121).jpg',\n",
       " 'C:/Users/kisho/Desktop/mao\\\\mao(122).jpg',\n",
       " 'C:/Users/kisho/Desktop/mao\\\\mao(123).jpg',\n",
       " 'C:/Users/kisho/Desktop/mao\\\\mao(124).jpg',\n",
       " 'C:/Users/kisho/Desktop/mao\\\\mao(125).jpg',\n",
       " 'C:/Users/kisho/Desktop/mao\\\\mao(126).jpg',\n",
       " 'C:/Users/kisho/Desktop/mao\\\\mao(127).jpg',\n",
       " 'C:/Users/kisho/Desktop/mao\\\\mao(128).jpg',\n",
       " 'C:/Users/kisho/Desktop/mao\\\\mao(129).jpg',\n",
       " 'C:/Users/kisho/Desktop/mao\\\\mao(13).jpg',\n",
       " 'C:/Users/kisho/Desktop/mao\\\\mao(130).jpg',\n",
       " 'C:/Users/kisho/Desktop/mao\\\\mao(131).jpg',\n",
       " 'C:/Users/kisho/Desktop/mao\\\\mao(132).jpg',\n",
       " 'C:/Users/kisho/Desktop/mao\\\\mao(133).jpg',\n",
       " 'C:/Users/kisho/Desktop/mao\\\\mao(134).jpg',\n",
       " 'C:/Users/kisho/Desktop/mao\\\\mao(135).jpg',\n",
       " 'C:/Users/kisho/Desktop/mao\\\\mao(136).jpg',\n",
       " 'C:/Users/kisho/Desktop/mao\\\\mao(137).jpg',\n",
       " 'C:/Users/kisho/Desktop/mao\\\\mao(138).jpg',\n",
       " 'C:/Users/kisho/Desktop/mao\\\\mao(139).jpg',\n",
       " 'C:/Users/kisho/Desktop/mao\\\\mao(14).jpg',\n",
       " 'C:/Users/kisho/Desktop/mao\\\\mao(140).jpg',\n",
       " 'C:/Users/kisho/Desktop/mao\\\\mao(141).jpg',\n",
       " 'C:/Users/kisho/Desktop/mao\\\\mao(142).jpg',\n",
       " 'C:/Users/kisho/Desktop/mao\\\\mao(143).jpg',\n",
       " 'C:/Users/kisho/Desktop/mao\\\\mao(144).jpg',\n",
       " 'C:/Users/kisho/Desktop/mao\\\\mao(145).jpg',\n",
       " 'C:/Users/kisho/Desktop/mao\\\\mao(146).jpg',\n",
       " 'C:/Users/kisho/Desktop/mao\\\\mao(147).jpg',\n",
       " 'C:/Users/kisho/Desktop/mao\\\\mao(148).jpg',\n",
       " 'C:/Users/kisho/Desktop/mao\\\\mao(149).jpg',\n",
       " 'C:/Users/kisho/Desktop/mao\\\\mao(15).jpg',\n",
       " 'C:/Users/kisho/Desktop/mao\\\\mao(150).jpg',\n",
       " 'C:/Users/kisho/Desktop/mao\\\\mao(151).jpg',\n",
       " 'C:/Users/kisho/Desktop/mao\\\\mao(152).jpg',\n",
       " 'C:/Users/kisho/Desktop/mao\\\\mao(153).jpg',\n",
       " 'C:/Users/kisho/Desktop/mao\\\\mao(154).jpg',\n",
       " 'C:/Users/kisho/Desktop/mao\\\\mao(155).jpg',\n",
       " 'C:/Users/kisho/Desktop/mao\\\\mao(156).jpg',\n",
       " 'C:/Users/kisho/Desktop/mao\\\\mao(157).jpg',\n",
       " 'C:/Users/kisho/Desktop/mao\\\\mao(158).jpg',\n",
       " 'C:/Users/kisho/Desktop/mao\\\\mao(159).jpg',\n",
       " 'C:/Users/kisho/Desktop/mao\\\\mao(16).jpg',\n",
       " 'C:/Users/kisho/Desktop/mao\\\\mao(160).jpg',\n",
       " 'C:/Users/kisho/Desktop/mao\\\\mao(161).jpg',\n",
       " 'C:/Users/kisho/Desktop/mao\\\\mao(162).jpg',\n",
       " 'C:/Users/kisho/Desktop/mao\\\\mao(163).jpg',\n",
       " 'C:/Users/kisho/Desktop/mao\\\\mao(164).jpg',\n",
       " 'C:/Users/kisho/Desktop/mao\\\\mao(165).jpg',\n",
       " 'C:/Users/kisho/Desktop/mao\\\\mao(166).jpg',\n",
       " 'C:/Users/kisho/Desktop/mao\\\\mao(167).jpg',\n",
       " 'C:/Users/kisho/Desktop/mao\\\\mao(168).jpg',\n",
       " 'C:/Users/kisho/Desktop/mao\\\\mao(169).jpg',\n",
       " 'C:/Users/kisho/Desktop/mao\\\\mao(17).jpg',\n",
       " 'C:/Users/kisho/Desktop/mao\\\\mao(170).jpg',\n",
       " 'C:/Users/kisho/Desktop/mao\\\\mao(171).jpg',\n",
       " 'C:/Users/kisho/Desktop/mao\\\\mao(172).jpg',\n",
       " 'C:/Users/kisho/Desktop/mao\\\\mao(173).jpg',\n",
       " 'C:/Users/kisho/Desktop/mao\\\\mao(174).jpg',\n",
       " 'C:/Users/kisho/Desktop/mao\\\\mao(175).jpg',\n",
       " 'C:/Users/kisho/Desktop/mao\\\\mao(176).jpg',\n",
       " 'C:/Users/kisho/Desktop/mao\\\\mao(177).jpg',\n",
       " 'C:/Users/kisho/Desktop/mao\\\\mao(178).jpg',\n",
       " 'C:/Users/kisho/Desktop/mao\\\\mao(179).jpg',\n",
       " 'C:/Users/kisho/Desktop/mao\\\\mao(18).jpg',\n",
       " 'C:/Users/kisho/Desktop/mao\\\\mao(180).jpg',\n",
       " 'C:/Users/kisho/Desktop/mao\\\\mao(181).jpg',\n",
       " 'C:/Users/kisho/Desktop/mao\\\\mao(182).jpg',\n",
       " 'C:/Users/kisho/Desktop/mao\\\\mao(183).jpg',\n",
       " 'C:/Users/kisho/Desktop/mao\\\\mao(184).jpg',\n",
       " 'C:/Users/kisho/Desktop/mao\\\\mao(185).jpg',\n",
       " 'C:/Users/kisho/Desktop/mao\\\\mao(186).jpg',\n",
       " 'C:/Users/kisho/Desktop/mao\\\\mao(187).jpg',\n",
       " 'C:/Users/kisho/Desktop/mao\\\\mao(188).jpg',\n",
       " 'C:/Users/kisho/Desktop/mao\\\\mao(189).jpg',\n",
       " 'C:/Users/kisho/Desktop/mao\\\\mao(19).jpg',\n",
       " 'C:/Users/kisho/Desktop/mao\\\\mao(190).jpg',\n",
       " 'C:/Users/kisho/Desktop/mao\\\\mao(191).jpg',\n",
       " 'C:/Users/kisho/Desktop/mao\\\\mao(192).jpg',\n",
       " 'C:/Users/kisho/Desktop/mao\\\\mao(193).jpg',\n",
       " 'C:/Users/kisho/Desktop/mao\\\\mao(194).jpg',\n",
       " 'C:/Users/kisho/Desktop/mao\\\\mao(195).jpg',\n",
       " 'C:/Users/kisho/Desktop/mao\\\\mao(196).jpg',\n",
       " 'C:/Users/kisho/Desktop/mao\\\\mao(197).jpg',\n",
       " 'C:/Users/kisho/Desktop/mao\\\\mao(198).jpg',\n",
       " 'C:/Users/kisho/Desktop/mao\\\\mao(199).jpg',\n",
       " 'C:/Users/kisho/Desktop/mao\\\\mao(2).jpg',\n",
       " 'C:/Users/kisho/Desktop/mao\\\\mao(20).jpg',\n",
       " 'C:/Users/kisho/Desktop/mao\\\\mao(200).jpg',\n",
       " 'C:/Users/kisho/Desktop/mao\\\\mao(21).jpg',\n",
       " 'C:/Users/kisho/Desktop/mao\\\\mao(22).jpg',\n",
       " 'C:/Users/kisho/Desktop/mao\\\\mao(23).jpg',\n",
       " 'C:/Users/kisho/Desktop/mao\\\\mao(24).jpg',\n",
       " 'C:/Users/kisho/Desktop/mao\\\\mao(25).jpg',\n",
       " 'C:/Users/kisho/Desktop/mao\\\\mao(26).jpg',\n",
       " 'C:/Users/kisho/Desktop/mao\\\\mao(27).jpg',\n",
       " 'C:/Users/kisho/Desktop/mao\\\\mao(28).jpg',\n",
       " 'C:/Users/kisho/Desktop/mao\\\\mao(29).jpg',\n",
       " 'C:/Users/kisho/Desktop/mao\\\\mao(3).jpg',\n",
       " 'C:/Users/kisho/Desktop/mao\\\\mao(30).jpg',\n",
       " 'C:/Users/kisho/Desktop/mao\\\\mao(31).jpg',\n",
       " 'C:/Users/kisho/Desktop/mao\\\\mao(32).jpg',\n",
       " 'C:/Users/kisho/Desktop/mao\\\\mao(33).jpg',\n",
       " 'C:/Users/kisho/Desktop/mao\\\\mao(34).jpg',\n",
       " 'C:/Users/kisho/Desktop/mao\\\\mao(35).jpg',\n",
       " 'C:/Users/kisho/Desktop/mao\\\\mao(36).jpg',\n",
       " 'C:/Users/kisho/Desktop/mao\\\\mao(37).jpg',\n",
       " 'C:/Users/kisho/Desktop/mao\\\\mao(38).jpg',\n",
       " 'C:/Users/kisho/Desktop/mao\\\\mao(39).jpg',\n",
       " 'C:/Users/kisho/Desktop/mao\\\\mao(4).jpg',\n",
       " 'C:/Users/kisho/Desktop/mao\\\\mao(40).jpg',\n",
       " 'C:/Users/kisho/Desktop/mao\\\\mao(41).jpg',\n",
       " 'C:/Users/kisho/Desktop/mao\\\\mao(42).jpg',\n",
       " 'C:/Users/kisho/Desktop/mao\\\\mao(43).jpg',\n",
       " 'C:/Users/kisho/Desktop/mao\\\\mao(44).jpg',\n",
       " 'C:/Users/kisho/Desktop/mao\\\\mao(45).jpg',\n",
       " 'C:/Users/kisho/Desktop/mao\\\\mao(46).jpg',\n",
       " 'C:/Users/kisho/Desktop/mao\\\\mao(47).jpg',\n",
       " 'C:/Users/kisho/Desktop/mao\\\\mao(48).jpg',\n",
       " 'C:/Users/kisho/Desktop/mao\\\\mao(49).jpg',\n",
       " 'C:/Users/kisho/Desktop/mao\\\\mao(5).jpg',\n",
       " 'C:/Users/kisho/Desktop/mao\\\\mao(50).jpg',\n",
       " 'C:/Users/kisho/Desktop/mao\\\\mao(51).jpg',\n",
       " 'C:/Users/kisho/Desktop/mao\\\\mao(52).jpg',\n",
       " 'C:/Users/kisho/Desktop/mao\\\\mao(53).jpg',\n",
       " 'C:/Users/kisho/Desktop/mao\\\\mao(54).jpg',\n",
       " 'C:/Users/kisho/Desktop/mao\\\\mao(55).jpg',\n",
       " 'C:/Users/kisho/Desktop/mao\\\\mao(56).jpg',\n",
       " 'C:/Users/kisho/Desktop/mao\\\\mao(57).jpg',\n",
       " 'C:/Users/kisho/Desktop/mao\\\\mao(58).jpg',\n",
       " 'C:/Users/kisho/Desktop/mao\\\\mao(59).jpg',\n",
       " 'C:/Users/kisho/Desktop/mao\\\\mao(6).jpg',\n",
       " 'C:/Users/kisho/Desktop/mao\\\\mao(60).jpg',\n",
       " 'C:/Users/kisho/Desktop/mao\\\\mao(61).jpg',\n",
       " 'C:/Users/kisho/Desktop/mao\\\\mao(62).jpg',\n",
       " 'C:/Users/kisho/Desktop/mao\\\\mao(63).jpg',\n",
       " 'C:/Users/kisho/Desktop/mao\\\\mao(64).jpg',\n",
       " 'C:/Users/kisho/Desktop/mao\\\\mao(65).jpg',\n",
       " 'C:/Users/kisho/Desktop/mao\\\\mao(66).jpg',\n",
       " 'C:/Users/kisho/Desktop/mao\\\\mao(67).jpg',\n",
       " 'C:/Users/kisho/Desktop/mao\\\\mao(68).jpg',\n",
       " 'C:/Users/kisho/Desktop/mao\\\\mao(69).jpg',\n",
       " 'C:/Users/kisho/Desktop/mao\\\\mao(7).jpg',\n",
       " 'C:/Users/kisho/Desktop/mao\\\\mao(70).jpg',\n",
       " 'C:/Users/kisho/Desktop/mao\\\\mao(71).jpg',\n",
       " 'C:/Users/kisho/Desktop/mao\\\\mao(72).jpg',\n",
       " 'C:/Users/kisho/Desktop/mao\\\\mao(73).jpg',\n",
       " 'C:/Users/kisho/Desktop/mao\\\\mao(74).jpg',\n",
       " 'C:/Users/kisho/Desktop/mao\\\\mao(75).jpg',\n",
       " 'C:/Users/kisho/Desktop/mao\\\\mao(76).jpg',\n",
       " 'C:/Users/kisho/Desktop/mao\\\\mao(77).jpg',\n",
       " 'C:/Users/kisho/Desktop/mao\\\\mao(78).jpg',\n",
       " 'C:/Users/kisho/Desktop/mao\\\\mao(79).jpg',\n",
       " 'C:/Users/kisho/Desktop/mao\\\\mao(8).jpg',\n",
       " 'C:/Users/kisho/Desktop/mao\\\\mao(80).jpg',\n",
       " 'C:/Users/kisho/Desktop/mao\\\\mao(81).jpg',\n",
       " 'C:/Users/kisho/Desktop/mao\\\\mao(82).jpg',\n",
       " 'C:/Users/kisho/Desktop/mao\\\\mao(83).jpg',\n",
       " 'C:/Users/kisho/Desktop/mao\\\\mao(84).jpg',\n",
       " 'C:/Users/kisho/Desktop/mao\\\\mao(85).jpg',\n",
       " 'C:/Users/kisho/Desktop/mao\\\\mao(86).jpg',\n",
       " 'C:/Users/kisho/Desktop/mao\\\\mao(87).jpg',\n",
       " 'C:/Users/kisho/Desktop/mao\\\\mao(88).jpg',\n",
       " 'C:/Users/kisho/Desktop/mao\\\\mao(89).jpg',\n",
       " 'C:/Users/kisho/Desktop/mao\\\\mao(9).jpg',\n",
       " 'C:/Users/kisho/Desktop/mao\\\\mao(90).jpg',\n",
       " 'C:/Users/kisho/Desktop/mao\\\\mao(91).jpg',\n",
       " 'C:/Users/kisho/Desktop/mao\\\\mao(92).jpg',\n",
       " 'C:/Users/kisho/Desktop/mao\\\\mao(93).jpg',\n",
       " 'C:/Users/kisho/Desktop/mao\\\\mao(94).jpg',\n",
       " 'C:/Users/kisho/Desktop/mao\\\\mao(95).jpg',\n",
       " 'C:/Users/kisho/Desktop/mao\\\\mao(96).jpg',\n",
       " 'C:/Users/kisho/Desktop/mao\\\\mao(97).jpg',\n",
       " 'C:/Users/kisho/Desktop/mao\\\\mao(98).jpg',\n",
       " 'C:/Users/kisho/Desktop/mao\\\\mao(99).jpg']"
      ]
     },
     "execution_count": 2,
     "metadata": {},
     "output_type": "execute_result"
    }
   ],
   "source": [
    "# mao画像のファイルのpathをリストに格納\n",
    "path_mao = glob.glob(\"C:/Users/kisho/Desktop/mao/*.jpg\")\n",
    "path_mao"
   ]
  },
  {
   "cell_type": "code",
   "execution_count": 3,
   "metadata": {},
   "outputs": [
    {
     "data": {
      "text/plain": [
       "(200,)"
      ]
     },
     "execution_count": 3,
     "metadata": {},
     "output_type": "execute_result"
    }
   ],
   "source": [
    "# 200枚の画像を読み込んでいることを確認\n",
    "np.array(path_mao).shape"
   ]
  },
  {
   "cell_type": "markdown",
   "metadata": {},
   "source": [
    "# 回転によるデータ拡張"
   ]
  },
  {
   "cell_type": "code",
   "execution_count": 4,
   "metadata": {},
   "outputs": [],
   "source": [
    "# -20~20度回転した画像データをmaoに格納 200 x 41 = 8200\n",
    "mao = []\n",
    "\n",
    "center = (25, 25)\n",
    "angles = list(range(-20, 21, 1))    # -20~20度の回転\n",
    "size = (50, 50)\n",
    "\n",
    "for i in range(200):\n",
    "    \n",
    "    img = cv2.imread(path_mao[i])\n",
    "    img = cv2.cvtColor(img, cv2.COLOR_BGR2RGB)\n",
    "    img = cv2.resize(img, size)\n",
    "    \n",
    "    # 回転によって黒色の背景が出てくるが、それをなくすために拡大\n",
    "    for angle in angles:\n",
    "        \n",
    "        if angle <= -10:\n",
    "            trans = cv2.getRotationMatrix2D(center, angle, 1.3)    # 1.3倍\n",
    "            img_rotate = cv2.warpAffine(img, trans, size)\n",
    "            mao.append(img_rotate)\n",
    "        \n",
    "        elif -10 < angle <= 10:\n",
    "            trans = cv2.getRotationMatrix2D(center, angle, 1.15)    #1.15倍\n",
    "            img_rotate = cv2.warpAffine(img, trans, size)\n",
    "            mao.append(img_rotate)\n",
    "            \n",
    "        elif angle > 10:\n",
    "            trans = cv2.getRotationMatrix2D(center, angle, 1.3)    # 1.3倍\n",
    "            img_rotate = cv2.warpAffine(img, trans, size)\n",
    "            mao.append(img_rotate)"
   ]
  },
  {
   "cell_type": "code",
   "execution_count": 18,
   "metadata": {},
   "outputs": [
    {
     "data": {
      "text/plain": [
       "(8200, 50, 50, 3)"
      ]
     },
     "execution_count": 18,
     "metadata": {},
     "output_type": "execute_result"
    }
   ],
   "source": [
    "# 拡張後のデータ数を確認\n",
    "np.array(mao).shape"
   ]
  },
  {
   "cell_type": "code",
   "execution_count": 19,
   "metadata": {},
   "outputs": [
    {
     "data": {
      "text/plain": [
       "(50, 50, 3)"
      ]
     },
     "execution_count": 19,
     "metadata": {},
     "output_type": "execute_result"
    }
   ],
   "source": [
    "np.array(mao[0]).shape"
   ]
  },
  {
   "cell_type": "markdown",
   "metadata": {},
   "source": [
    "# 彩度変更によるデータ拡張"
   ]
  },
  {
   "cell_type": "code",
   "execution_count": 20,
   "metadata": {},
   "outputs": [],
   "source": [
    "# 彩度を0.7倍,1.3倍　8200 x1.0, x0.7, x1.3 = 24600枚に拡張\n",
    "s = [0.7, 1.3]\n",
    "\n",
    "for saido in s:\n",
    "    for i in range(8200):\n",
    "        img_hsv = cv2.cvtColor(mao[i], cv2.COLOR_RGB2HSV) # RGB -> HSV\n",
    "        img_hsv[:, :, (1)] = img_hsv[:, :, (1)] * saido  # 彩度を計算\n",
    "        img_hsv[:, :, (2)] = img_hsv[:, :, (2)] * 1.0  # 明度を計算        \n",
    "        img_RGB = cv2.cvtColor(img_hsv, cv2.COLOR_HSV2RGB) # HSV -> RGB\n",
    "        \n",
    "        mao.append(img_RGB)"
   ]
  },
  {
   "cell_type": "code",
   "execution_count": 21,
   "metadata": {},
   "outputs": [
    {
     "data": {
      "text/plain": [
       "(24600, 50, 50, 3)"
      ]
     },
     "execution_count": 21,
     "metadata": {},
     "output_type": "execute_result"
    }
   ],
   "source": [
    "# 24600枚になっているかを確認\n",
    "np.array(mao).shape"
   ]
  },
  {
   "cell_type": "markdown",
   "metadata": {},
   "source": [
    "# 明度変更によるデータ拡張"
   ]
  },
  {
   "cell_type": "code",
   "execution_count": 22,
   "metadata": {},
   "outputs": [],
   "source": [
    "# 明度を0.7倍,1.3倍\n",
    "m = [0.7, 1.3]\n",
    "\n",
    "for meido in m:\n",
    "    for i in range(10000):    # 1万枚の画像データの明度を変更\n",
    "        img_hsv = cv2.cvtColor(mao[i], cv2.COLOR_RGB2HSV) # RGB -> HSV\n",
    "        img_hsv[:, :, (1)] = img_hsv[:, :, (1)] * 1.0  # 彩度を計算\n",
    "        img_hsv[:, :, (2)] = img_hsv[:, :, (2)] * meido  # 明度を計算        \n",
    "        img_RGB = cv2.cvtColor(img_hsv, cv2.COLOR_HSV2RGB) # HSV -> RGB\n",
    "        \n",
    "        mao.append(img_RGB)"
   ]
  },
  {
   "cell_type": "code",
   "execution_count": 23,
   "metadata": {},
   "outputs": [
    {
     "data": {
      "text/plain": [
       "(44600, 50, 50, 3)"
      ]
     },
     "execution_count": 23,
     "metadata": {},
     "output_type": "execute_result"
    }
   ],
   "source": [
    "np.array(mao).shape"
   ]
  },
  {
   "cell_type": "code",
   "execution_count": 24,
   "metadata": {},
   "outputs": [
    {
     "name": "stdout",
     "output_type": "stream",
     "text": [
      "(44600, 7500)\n"
     ]
    }
   ],
   "source": [
    "mao_array = np.array(mao).reshape(44600, 7500)\n",
    "print(mao_array.shape)"
   ]
  },
  {
   "cell_type": "code",
   "execution_count": 25,
   "metadata": {},
   "outputs": [
    {
     "name": "stdout",
     "output_type": "stream",
     "text": [
      "(30000, 7500)\n"
     ]
    }
   ],
   "source": [
    "# 3万のデータだけ使う（メモリの関係）\n",
    "mao_array_30000 = mao_array[:30000, :]\n",
    "print(mao_array_30000.shape)"
   ]
  },
  {
   "cell_type": "code",
   "execution_count": 26,
   "metadata": {},
   "outputs": [],
   "source": [
    "# 3万の画像データをcsvとして保存\n",
    "np.savetxt(\"mao_50x50img_data.csv\", mao_array_30000, delimiter=\",\")"
   ]
  },
  {
   "cell_type": "markdown",
   "metadata": {},
   "source": [
    "# kitaniデータ拡張\n",
    "同様の操作をキタニタツヤの画像にも行う"
   ]
  },
  {
   "cell_type": "code",
   "execution_count": 3,
   "metadata": {
    "scrolled": true
   },
   "outputs": [
    {
     "data": {
      "text/plain": [
       "['C:/Users/kisho/Desktop/kitani\\\\kitani(1).jpg',\n",
       " 'C:/Users/kisho/Desktop/kitani\\\\kitani(10).jpg',\n",
       " 'C:/Users/kisho/Desktop/kitani\\\\kitani(100).jpg',\n",
       " 'C:/Users/kisho/Desktop/kitani\\\\kitani(11).jpg',\n",
       " 'C:/Users/kisho/Desktop/kitani\\\\kitani(12).jpg',\n",
       " 'C:/Users/kisho/Desktop/kitani\\\\kitani(13).jpg',\n",
       " 'C:/Users/kisho/Desktop/kitani\\\\kitani(14).jpg',\n",
       " 'C:/Users/kisho/Desktop/kitani\\\\kitani(15).jpg',\n",
       " 'C:/Users/kisho/Desktop/kitani\\\\kitani(16).jpg',\n",
       " 'C:/Users/kisho/Desktop/kitani\\\\kitani(17).jpg',\n",
       " 'C:/Users/kisho/Desktop/kitani\\\\kitani(18).jpg',\n",
       " 'C:/Users/kisho/Desktop/kitani\\\\kitani(19).jpg',\n",
       " 'C:/Users/kisho/Desktop/kitani\\\\kitani(2).jpg',\n",
       " 'C:/Users/kisho/Desktop/kitani\\\\kitani(20).jpg',\n",
       " 'C:/Users/kisho/Desktop/kitani\\\\kitani(21).jpg',\n",
       " 'C:/Users/kisho/Desktop/kitani\\\\kitani(22).jpg',\n",
       " 'C:/Users/kisho/Desktop/kitani\\\\kitani(23).jpg',\n",
       " 'C:/Users/kisho/Desktop/kitani\\\\kitani(24).jpg',\n",
       " 'C:/Users/kisho/Desktop/kitani\\\\kitani(25).jpg',\n",
       " 'C:/Users/kisho/Desktop/kitani\\\\kitani(26).jpg',\n",
       " 'C:/Users/kisho/Desktop/kitani\\\\kitani(27).jpg',\n",
       " 'C:/Users/kisho/Desktop/kitani\\\\kitani(28).jpg',\n",
       " 'C:/Users/kisho/Desktop/kitani\\\\kitani(29).jpg',\n",
       " 'C:/Users/kisho/Desktop/kitani\\\\kitani(3).jpg',\n",
       " 'C:/Users/kisho/Desktop/kitani\\\\kitani(30).jpg',\n",
       " 'C:/Users/kisho/Desktop/kitani\\\\kitani(31).jpg',\n",
       " 'C:/Users/kisho/Desktop/kitani\\\\kitani(32).jpg',\n",
       " 'C:/Users/kisho/Desktop/kitani\\\\kitani(33).jpg',\n",
       " 'C:/Users/kisho/Desktop/kitani\\\\kitani(34).jpg',\n",
       " 'C:/Users/kisho/Desktop/kitani\\\\kitani(35).jpg',\n",
       " 'C:/Users/kisho/Desktop/kitani\\\\kitani(36).jpg',\n",
       " 'C:/Users/kisho/Desktop/kitani\\\\kitani(37).jpg',\n",
       " 'C:/Users/kisho/Desktop/kitani\\\\kitani(38).jpg',\n",
       " 'C:/Users/kisho/Desktop/kitani\\\\kitani(39).jpg',\n",
       " 'C:/Users/kisho/Desktop/kitani\\\\kitani(4).jpg',\n",
       " 'C:/Users/kisho/Desktop/kitani\\\\kitani(40).jpg',\n",
       " 'C:/Users/kisho/Desktop/kitani\\\\kitani(41).jpg',\n",
       " 'C:/Users/kisho/Desktop/kitani\\\\kitani(42).jpg',\n",
       " 'C:/Users/kisho/Desktop/kitani\\\\kitani(43).jpg',\n",
       " 'C:/Users/kisho/Desktop/kitani\\\\kitani(44).jpg',\n",
       " 'C:/Users/kisho/Desktop/kitani\\\\kitani(45).jpg',\n",
       " 'C:/Users/kisho/Desktop/kitani\\\\kitani(46).jpg',\n",
       " 'C:/Users/kisho/Desktop/kitani\\\\kitani(47).jpg',\n",
       " 'C:/Users/kisho/Desktop/kitani\\\\kitani(48).jpg',\n",
       " 'C:/Users/kisho/Desktop/kitani\\\\kitani(49).jpg',\n",
       " 'C:/Users/kisho/Desktop/kitani\\\\kitani(5).jpg',\n",
       " 'C:/Users/kisho/Desktop/kitani\\\\kitani(50).jpg',\n",
       " 'C:/Users/kisho/Desktop/kitani\\\\kitani(51).jpg',\n",
       " 'C:/Users/kisho/Desktop/kitani\\\\kitani(52).jpg',\n",
       " 'C:/Users/kisho/Desktop/kitani\\\\kitani(53).jpg',\n",
       " 'C:/Users/kisho/Desktop/kitani\\\\kitani(54).jpg',\n",
       " 'C:/Users/kisho/Desktop/kitani\\\\kitani(55).jpg',\n",
       " 'C:/Users/kisho/Desktop/kitani\\\\kitani(56).jpg',\n",
       " 'C:/Users/kisho/Desktop/kitani\\\\kitani(57).jpg',\n",
       " 'C:/Users/kisho/Desktop/kitani\\\\kitani(58).jpg',\n",
       " 'C:/Users/kisho/Desktop/kitani\\\\kitani(59).jpg',\n",
       " 'C:/Users/kisho/Desktop/kitani\\\\kitani(6).jpg',\n",
       " 'C:/Users/kisho/Desktop/kitani\\\\kitani(60).jpg',\n",
       " 'C:/Users/kisho/Desktop/kitani\\\\kitani(61).jpg',\n",
       " 'C:/Users/kisho/Desktop/kitani\\\\kitani(62).jpg',\n",
       " 'C:/Users/kisho/Desktop/kitani\\\\kitani(63).jpg',\n",
       " 'C:/Users/kisho/Desktop/kitani\\\\kitani(64).jpg',\n",
       " 'C:/Users/kisho/Desktop/kitani\\\\kitani(65).jpg',\n",
       " 'C:/Users/kisho/Desktop/kitani\\\\kitani(66).jpg',\n",
       " 'C:/Users/kisho/Desktop/kitani\\\\kitani(67).jpg',\n",
       " 'C:/Users/kisho/Desktop/kitani\\\\kitani(68).jpg',\n",
       " 'C:/Users/kisho/Desktop/kitani\\\\kitani(69).jpg',\n",
       " 'C:/Users/kisho/Desktop/kitani\\\\kitani(7).jpg',\n",
       " 'C:/Users/kisho/Desktop/kitani\\\\kitani(70).jpg',\n",
       " 'C:/Users/kisho/Desktop/kitani\\\\kitani(71).jpg',\n",
       " 'C:/Users/kisho/Desktop/kitani\\\\kitani(72).jpg',\n",
       " 'C:/Users/kisho/Desktop/kitani\\\\kitani(73).jpg',\n",
       " 'C:/Users/kisho/Desktop/kitani\\\\kitani(74).jpg',\n",
       " 'C:/Users/kisho/Desktop/kitani\\\\kitani(75).jpg',\n",
       " 'C:/Users/kisho/Desktop/kitani\\\\kitani(76).jpg',\n",
       " 'C:/Users/kisho/Desktop/kitani\\\\kitani(77).jpg',\n",
       " 'C:/Users/kisho/Desktop/kitani\\\\kitani(78).jpg',\n",
       " 'C:/Users/kisho/Desktop/kitani\\\\kitani(79).jpg',\n",
       " 'C:/Users/kisho/Desktop/kitani\\\\kitani(8).jpg',\n",
       " 'C:/Users/kisho/Desktop/kitani\\\\kitani(80).jpg',\n",
       " 'C:/Users/kisho/Desktop/kitani\\\\kitani(81).jpg',\n",
       " 'C:/Users/kisho/Desktop/kitani\\\\kitani(82).jpg',\n",
       " 'C:/Users/kisho/Desktop/kitani\\\\kitani(83).jpg',\n",
       " 'C:/Users/kisho/Desktop/kitani\\\\kitani(84).jpg',\n",
       " 'C:/Users/kisho/Desktop/kitani\\\\kitani(85).jpg',\n",
       " 'C:/Users/kisho/Desktop/kitani\\\\kitani(86).jpg',\n",
       " 'C:/Users/kisho/Desktop/kitani\\\\kitani(87).jpg',\n",
       " 'C:/Users/kisho/Desktop/kitani\\\\kitani(88).jpg',\n",
       " 'C:/Users/kisho/Desktop/kitani\\\\kitani(89).jpg',\n",
       " 'C:/Users/kisho/Desktop/kitani\\\\kitani(9).jpg',\n",
       " 'C:/Users/kisho/Desktop/kitani\\\\kitani(90).jpg',\n",
       " 'C:/Users/kisho/Desktop/kitani\\\\kitani(91).jpg',\n",
       " 'C:/Users/kisho/Desktop/kitani\\\\kitani(92).jpg',\n",
       " 'C:/Users/kisho/Desktop/kitani\\\\kitani(93).jpg',\n",
       " 'C:/Users/kisho/Desktop/kitani\\\\kitani(94).jpg',\n",
       " 'C:/Users/kisho/Desktop/kitani\\\\kitani(95).jpg',\n",
       " 'C:/Users/kisho/Desktop/kitani\\\\kitani(96).jpg',\n",
       " 'C:/Users/kisho/Desktop/kitani\\\\kitani(97).jpg',\n",
       " 'C:/Users/kisho/Desktop/kitani\\\\kitani(98).jpg',\n",
       " 'C:/Users/kisho/Desktop/kitani\\\\kitani(99).jpg']"
      ]
     },
     "execution_count": 3,
     "metadata": {},
     "output_type": "execute_result"
    }
   ],
   "source": [
    "path_kitani = glob.glob(\"C:/Users/kisho/Desktop/kitani/*.jpg\")\n",
    "path_kitani"
   ]
  },
  {
   "cell_type": "code",
   "execution_count": 4,
   "metadata": {},
   "outputs": [
    {
     "data": {
      "text/plain": [
       "(100,)"
      ]
     },
     "execution_count": 4,
     "metadata": {},
     "output_type": "execute_result"
    }
   ],
   "source": [
    "# 100枚の画像のパスを読み込めていることを確認\n",
    "np.array(path_kitani).shape"
   ]
  },
  {
   "cell_type": "markdown",
   "metadata": {},
   "source": [
    "# 回転によるデータ拡張"
   ]
  },
  {
   "cell_type": "code",
   "execution_count": 5,
   "metadata": {},
   "outputs": [
    {
     "data": {
      "text/plain": [
       "(4100, 50, 50, 3)"
      ]
     },
     "execution_count": 5,
     "metadata": {},
     "output_type": "execute_result"
    }
   ],
   "source": [
    "# -20~20度回転した画像データをkitaniに格納 200 x 41 = 8200\n",
    "kitani = []\n",
    "\n",
    "center = (25, 25)\n",
    "angles = list(range(-20, 21, 1))    # -20~20度の回転\n",
    "size = (50, 50)\n",
    "\n",
    "for i in range(100):\n",
    "    \n",
    "    img = cv2.imread(path_kitani[i])\n",
    "    img = cv2.cvtColor(img, cv2.COLOR_BGR2RGB)\n",
    "    img = cv2.resize(img, size)\n",
    "    \n",
    "    for angle in angles:\n",
    "        \n",
    "        if angle <= -10:\n",
    "            trans = cv2.getRotationMatrix2D(center, angle, 1.3)\n",
    "            img_rotate = cv2.warpAffine(img, trans, size)\n",
    "            kitani.append(img_rotate)\n",
    "        \n",
    "        elif -10 < angle <= 10:\n",
    "            trans = cv2.getRotationMatrix2D(center, angle, 1.15)\n",
    "            img_rotate = cv2.warpAffine(img, trans, size)\n",
    "            kitani.append(img_rotate)\n",
    "            \n",
    "        elif angle > 10:\n",
    "            trans = cv2.getRotationMatrix2D(center, angle, 1.3)\n",
    "            img_rotate = cv2.warpAffine(img, trans, size)\n",
    "            kitani.append(img_rotate)\n",
    "            \n",
    "np.array(kitani).shape"
   ]
  },
  {
   "cell_type": "markdown",
   "metadata": {},
   "source": [
    "# 彩度、明度を変えることによるデータ拡張"
   ]
  },
  {
   "cell_type": "code",
   "execution_count": 6,
   "metadata": {},
   "outputs": [
    {
     "data": {
      "text/plain": [
       "(12300, 50, 50, 3)"
      ]
     },
     "execution_count": 6,
     "metadata": {},
     "output_type": "execute_result"
    }
   ],
   "source": [
    "# 彩度を0.7倍,1.3倍\n",
    "s = [0.7, 1.3]\n",
    "\n",
    "for saido in s:\n",
    "    for i in range(4100):\n",
    "        img_hsv = cv2.cvtColor(kitani[i], cv2.COLOR_RGB2HSV) # RGB -> HSV\n",
    "        img_hsv[:, :, (1)] = img_hsv[:, :, (1)] * saido  # 彩度を計算\n",
    "        img_hsv[:, :, (2)] = img_hsv[:, :, (2)] * 1.0  # 明度を計算        \n",
    "        img_RGB = cv2.cvtColor(img_hsv, cv2.COLOR_HSV2RGB) # HSV -> RGB\n",
    "        \n",
    "        kitani.append(img_RGB)\n",
    "        \n",
    "np.array(kitani).shape"
   ]
  },
  {
   "cell_type": "code",
   "execution_count": 7,
   "metadata": {},
   "outputs": [
    {
     "data": {
      "text/plain": [
       "(32300, 50, 50, 3)"
      ]
     },
     "execution_count": 7,
     "metadata": {},
     "output_type": "execute_result"
    }
   ],
   "source": [
    "# 明度を0.7倍,1.3倍\n",
    "m = [0.7, 1.3]\n",
    "\n",
    "for meido in m:\n",
    "    for i in range(10000):\n",
    "        img_hsv = cv2.cvtColor(kitani[i], cv2.COLOR_RGB2HSV) # RGB -> HSV\n",
    "        img_hsv[:, :, (1)] = img_hsv[:, :, (1)] * 1.0  # 彩度を計算\n",
    "        img_hsv[:, :, (2)] = img_hsv[:, :, (2)] * meido  # 明度を計算        \n",
    "        img_RGB = cv2.cvtColor(img_hsv, cv2.COLOR_HSV2RGB) # HSV -> RGB\n",
    "        \n",
    "        kitani.append(img_RGB)\n",
    "        \n",
    "np.array(kitani).shape"
   ]
  },
  {
   "cell_type": "code",
   "execution_count": 9,
   "metadata": {},
   "outputs": [
    {
     "name": "stdout",
     "output_type": "stream",
     "text": [
      "(32300, 7500)\n"
     ]
    }
   ],
   "source": [
    "kitani_array = np.array(kitani).reshape(32300, 7500)\n",
    "print(kitani_array.shape)"
   ]
  },
  {
   "cell_type": "code",
   "execution_count": 11,
   "metadata": {},
   "outputs": [
    {
     "name": "stdout",
     "output_type": "stream",
     "text": [
      "(20000, 7500)\n"
     ]
    }
   ],
   "source": [
    "# 2万のデータだけ使う\n",
    "kitani_array_20000 = kitani_array[:20000, :]\n",
    "print(kitani_array_20000.shape)"
   ]
  },
  {
   "cell_type": "code",
   "execution_count": 12,
   "metadata": {},
   "outputs": [],
   "source": [
    "# 2万のデータだけcsvとして保存\n",
    "np.savetxt(\"kitani_img_data.csv\", kitani_array_20000, delimiter=\",\")"
   ]
  },
  {
   "cell_type": "markdown",
   "metadata": {},
   "source": [
    "メモリの関係上、続きは別のnotebookで行う"
   ]
  },
  {
   "cell_type": "code",
   "execution_count": null,
   "metadata": {},
   "outputs": [],
   "source": []
  }
 ],
 "metadata": {
  "kernelspec": {
   "display_name": "Python 3",
   "language": "python",
   "name": "python3"
  },
  "language_info": {
   "codemirror_mode": {
    "name": "ipython",
    "version": 3
   },
   "file_extension": ".py",
   "mimetype": "text/x-python",
   "name": "python",
   "nbconvert_exporter": "python",
   "pygments_lexer": "ipython3",
   "version": "3.8.5"
  }
 },
 "nbformat": 4,
 "nbformat_minor": 4
}
