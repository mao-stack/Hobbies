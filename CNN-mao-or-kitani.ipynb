{
 "cells": [
  {
   "cell_type": "markdown",
   "metadata": {
    "papermill": {
     "duration": 0.044443,
     "end_time": "2020-10-26T09:51:16.361614",
     "exception": false,
     "start_time": "2020-10-26T09:51:16.317171",
     "status": "completed"
    },
    "tags": []
   },
   "source": [
    "# 笹川真生とキタニタツヤの顔画像を見分けるAI(CNN)"
   ]
  },
  {
   "cell_type": "markdown",
   "metadata": {
    "papermill": {
     "duration": 0.037826,
     "end_time": "2020-10-26T09:51:16.437197",
     "exception": false,
     "start_time": "2020-10-26T09:51:16.399371",
     "status": "completed"
    },
    "tags": []
   },
   "source": [
    "笹川真生  \n",
    "https://www.youtube.com/channel/UCd0oSpX1KiQ0pBl8g4XcwOQ/videos  \n",
    "キタニタツヤ  \n",
    "https://www.youtube.com/channel/UCgP3GbgbuVzAhlctGU5yuPA"
   ]
  },
  {
   "cell_type": "markdown",
   "metadata": {
    "papermill": {
     "duration": 0.036825,
     "end_time": "2020-10-26T09:51:16.512098",
     "exception": false,
     "start_time": "2020-10-26T09:51:16.475273",
     "status": "completed"
    },
    "tags": []
   },
   "source": [
    "# 前準備"
   ]
  },
  {
   "cell_type": "code",
   "execution_count": 1,
   "metadata": {
    "_cell_guid": "b1076dfc-b9ad-4769-8c92-a6c4dae69d19",
    "_uuid": "8f2839f25d086af736a60e9eeb907d3b93b6e0e5",
    "execution": {
     "iopub.execute_input": "2020-10-26T09:51:16.596029Z",
     "iopub.status.busy": "2020-10-26T09:51:16.595124Z",
     "iopub.status.idle": "2020-10-26T09:51:16.599020Z",
     "shell.execute_reply": "2020-10-26T09:51:16.598160Z"
    },
    "papermill": {
     "duration": 0.048784,
     "end_time": "2020-10-26T09:51:16.599200",
     "exception": false,
     "start_time": "2020-10-26T09:51:16.550416",
     "status": "completed"
    },
    "tags": []
   },
   "outputs": [],
   "source": [
    "import numpy as np\n",
    "import pandas as pd\n",
    "import os\n",
    "import glob"
   ]
  },
  {
   "cell_type": "code",
   "execution_count": 2,
   "metadata": {
    "execution": {
     "iopub.execute_input": "2020-10-26T09:51:16.680125Z",
     "iopub.status.busy": "2020-10-26T09:51:16.679240Z",
     "iopub.status.idle": "2020-10-26T09:51:16.732015Z",
     "shell.execute_reply": "2020-10-26T09:51:16.732639Z"
    },
    "papermill": {
     "duration": 0.095181,
     "end_time": "2020-10-26T09:51:16.732801",
     "exception": false,
     "start_time": "2020-10-26T09:51:16.637620",
     "status": "completed"
    },
    "tags": []
   },
   "outputs": [
    {
     "data": {
      "text/plain": [
       "['/kaggle/input/mao-img/mao(11).jpg',\n",
       " '/kaggle/input/mao-img/mao(155).jpg',\n",
       " '/kaggle/input/mao-img/mao(102).jpg',\n",
       " '/kaggle/input/mao-img/mao(68).jpg',\n",
       " '/kaggle/input/mao-img/mao(88).jpg',\n",
       " '/kaggle/input/mao-img/mao(112).jpg',\n",
       " '/kaggle/input/mao-img/mao(153).jpg',\n",
       " '/kaggle/input/mao-img/mao(34).jpg',\n",
       " '/kaggle/input/mao-img/mao(101).jpg',\n",
       " '/kaggle/input/mao-img/mao(160).jpg',\n",
       " '/kaggle/input/mao-img/mao(43).jpg',\n",
       " '/kaggle/input/mao-img/mao(169).jpg',\n",
       " '/kaggle/input/mao-img/mao(117).jpg',\n",
       " '/kaggle/input/mao-img/mao(17).jpg',\n",
       " '/kaggle/input/mao-img/mao(199).jpg',\n",
       " '/kaggle/input/mao-img/mao(197).jpg',\n",
       " '/kaggle/input/mao-img/mao(26).jpg',\n",
       " '/kaggle/input/mao-img/mao(120).jpg',\n",
       " '/kaggle/input/mao-img/mao(85).jpg',\n",
       " '/kaggle/input/mao-img/mao(182).jpg',\n",
       " '/kaggle/input/mao-img/mao(21).jpg',\n",
       " '/kaggle/input/mao-img/mao(167).jpg',\n",
       " '/kaggle/input/mao-img/mao(139).jpg',\n",
       " '/kaggle/input/mao-img/mao(86).jpg',\n",
       " '/kaggle/input/mao-img/mao(53).jpg',\n",
       " '/kaggle/input/mao-img/mao(116).jpg',\n",
       " '/kaggle/input/mao-img/mao(168).jpg',\n",
       " '/kaggle/input/mao-img/mao(109).jpg',\n",
       " '/kaggle/input/mao-img/mao(69).jpg',\n",
       " '/kaggle/input/mao-img/mao(188).jpg',\n",
       " '/kaggle/input/mao-img/mao(77).jpg',\n",
       " '/kaggle/input/mao-img/mao(32).jpg',\n",
       " '/kaggle/input/mao-img/mao(190).jpg',\n",
       " '/kaggle/input/mao-img/mao(110).jpg',\n",
       " '/kaggle/input/mao-img/mao(13).jpg',\n",
       " '/kaggle/input/mao-img/mao(52).jpg',\n",
       " '/kaggle/input/mao-img/mao(8).jpg',\n",
       " '/kaggle/input/mao-img/mao(185).jpg',\n",
       " '/kaggle/input/mao-img/mao(60).jpg',\n",
       " '/kaggle/input/mao-img/mao(184).jpg',\n",
       " '/kaggle/input/mao-img/mao(124).jpg',\n",
       " '/kaggle/input/mao-img/mao(95).jpg',\n",
       " '/kaggle/input/mao-img/mao(105).jpg',\n",
       " '/kaggle/input/mao-img/mao(55).jpg',\n",
       " '/kaggle/input/mao-img/mao(148).jpg',\n",
       " '/kaggle/input/mao-img/mao(145).jpg',\n",
       " '/kaggle/input/mao-img/mao(189).jpg',\n",
       " '/kaggle/input/mao-img/mao(165).jpg',\n",
       " '/kaggle/input/mao-img/mao(7).jpg',\n",
       " '/kaggle/input/mao-img/mao(180).jpg',\n",
       " '/kaggle/input/mao-img/mao(70).jpg',\n",
       " '/kaggle/input/mao-img/mao(181).jpg',\n",
       " '/kaggle/input/mao-img/mao(14).jpg',\n",
       " '/kaggle/input/mao-img/mao(177).jpg',\n",
       " '/kaggle/input/mao-img/mao(143).jpg',\n",
       " '/kaggle/input/mao-img/mao(126).jpg',\n",
       " '/kaggle/input/mao-img/mao(150).jpg',\n",
       " '/kaggle/input/mao-img/mao(156).jpg',\n",
       " '/kaggle/input/mao-img/mao(2).jpg',\n",
       " '/kaggle/input/mao-img/mao(16).jpg',\n",
       " '/kaggle/input/mao-img/mao(50).jpg',\n",
       " '/kaggle/input/mao-img/mao(123).jpg',\n",
       " '/kaggle/input/mao-img/mao(28).jpg',\n",
       " '/kaggle/input/mao-img/mao(179).jpg',\n",
       " '/kaggle/input/mao-img/mao(61).jpg',\n",
       " '/kaggle/input/mao-img/mao(121).jpg',\n",
       " '/kaggle/input/mao-img/mao(59).jpg',\n",
       " '/kaggle/input/mao-img/mao(94).jpg',\n",
       " '/kaggle/input/mao-img/mao(97).jpg',\n",
       " '/kaggle/input/mao-img/mao(131).jpg',\n",
       " '/kaggle/input/mao-img/mao(183).jpg',\n",
       " '/kaggle/input/mao-img/mao(173).jpg',\n",
       " '/kaggle/input/mao-img/mao(39).jpg',\n",
       " '/kaggle/input/mao-img/mao(163).jpg',\n",
       " '/kaggle/input/mao-img/mao(142).jpg',\n",
       " '/kaggle/input/mao-img/mao(4).jpg',\n",
       " '/kaggle/input/mao-img/mao(12).jpg',\n",
       " '/kaggle/input/mao-img/mao(134).jpg',\n",
       " '/kaggle/input/mao-img/mao(1).jpg',\n",
       " '/kaggle/input/mao-img/mao(135).jpg',\n",
       " '/kaggle/input/mao-img/mao(170).jpg',\n",
       " '/kaggle/input/mao-img/mao(63).jpg',\n",
       " '/kaggle/input/mao-img/mao(30).jpg',\n",
       " '/kaggle/input/mao-img/mao(48).jpg',\n",
       " '/kaggle/input/mao-img/mao(24).jpg',\n",
       " '/kaggle/input/mao-img/mao(15).jpg',\n",
       " '/kaggle/input/mao-img/mao(33).jpg',\n",
       " '/kaggle/input/mao-img/mao(194).jpg',\n",
       " '/kaggle/input/mao-img/mao(36).jpg',\n",
       " '/kaggle/input/mao-img/mao(92).jpg',\n",
       " '/kaggle/input/mao-img/mao(10).jpg',\n",
       " '/kaggle/input/mao-img/mao(138).jpg',\n",
       " '/kaggle/input/mao-img/mao(80).jpg',\n",
       " '/kaggle/input/mao-img/mao(100).jpg',\n",
       " '/kaggle/input/mao-img/mao(27).jpg',\n",
       " '/kaggle/input/mao-img/mao(47).jpg',\n",
       " '/kaggle/input/mao-img/mao(6).jpg',\n",
       " '/kaggle/input/mao-img/mao(176).jpg',\n",
       " '/kaggle/input/mao-img/mao(79).jpg',\n",
       " '/kaggle/input/mao-img/mao(18).jpg',\n",
       " '/kaggle/input/mao-img/mao(166).jpg',\n",
       " '/kaggle/input/mao-img/mao(38).jpg',\n",
       " '/kaggle/input/mao-img/mao(35).jpg',\n",
       " '/kaggle/input/mao-img/mao(3).jpg',\n",
       " '/kaggle/input/mao-img/mao(25).jpg',\n",
       " '/kaggle/input/mao-img/mao(187).jpg',\n",
       " '/kaggle/input/mao-img/mao(104).jpg',\n",
       " '/kaggle/input/mao-img/mao(178).jpg',\n",
       " '/kaggle/input/mao-img/mao(118).jpg',\n",
       " '/kaggle/input/mao-img/mao(106).jpg',\n",
       " '/kaggle/input/mao-img/mao(62).jpg',\n",
       " '/kaggle/input/mao-img/mao(147).jpg',\n",
       " '/kaggle/input/mao-img/mao(192).jpg',\n",
       " '/kaggle/input/mao-img/mao(42).jpg',\n",
       " '/kaggle/input/mao-img/mao(159).jpg',\n",
       " '/kaggle/input/mao-img/mao(64).jpg',\n",
       " '/kaggle/input/mao-img/mao(130).jpg',\n",
       " '/kaggle/input/mao-img/mao(146).jpg',\n",
       " '/kaggle/input/mao-img/mao(5).jpg',\n",
       " '/kaggle/input/mao-img/mao(23).jpg',\n",
       " '/kaggle/input/mao-img/mao(162).jpg',\n",
       " '/kaggle/input/mao-img/mao(175).jpg',\n",
       " '/kaggle/input/mao-img/mao(198).jpg',\n",
       " '/kaggle/input/mao-img/mao(56).jpg',\n",
       " '/kaggle/input/mao-img/mao(72).jpg',\n",
       " '/kaggle/input/mao-img/mao(152).jpg',\n",
       " '/kaggle/input/mao-img/mao(114).jpg',\n",
       " '/kaggle/input/mao-img/mao(132).jpg',\n",
       " '/kaggle/input/mao-img/mao(89).jpg',\n",
       " '/kaggle/input/mao-img/mao(58).jpg',\n",
       " '/kaggle/input/mao-img/mao(115).jpg',\n",
       " '/kaggle/input/mao-img/mao(171).jpg',\n",
       " '/kaggle/input/mao-img/mao(87).jpg',\n",
       " '/kaggle/input/mao-img/mao(71).jpg',\n",
       " '/kaggle/input/mao-img/mao(191).jpg',\n",
       " '/kaggle/input/mao-img/mao(51).jpg',\n",
       " '/kaggle/input/mao-img/mao(65).jpg',\n",
       " '/kaggle/input/mao-img/mao(98).jpg',\n",
       " '/kaggle/input/mao-img/mao(195).jpg',\n",
       " '/kaggle/input/mao-img/mao(186).jpg',\n",
       " '/kaggle/input/mao-img/mao(129).jpg',\n",
       " '/kaggle/input/mao-img/mao(158).jpg',\n",
       " '/kaggle/input/mao-img/mao(107).jpg',\n",
       " '/kaggle/input/mao-img/mao(122).jpg',\n",
       " '/kaggle/input/mao-img/mao(133).jpg',\n",
       " '/kaggle/input/mao-img/mao(200).jpg',\n",
       " '/kaggle/input/mao-img/mao(136).jpg',\n",
       " '/kaggle/input/mao-img/mao(41).jpg',\n",
       " '/kaggle/input/mao-img/mao(75).jpg',\n",
       " '/kaggle/input/mao-img/mao(82).jpg',\n",
       " '/kaggle/input/mao-img/mao(9).jpg',\n",
       " '/kaggle/input/mao-img/mao(57).jpg',\n",
       " '/kaggle/input/mao-img/mao(46).jpg',\n",
       " '/kaggle/input/mao-img/mao(91).jpg',\n",
       " '/kaggle/input/mao-img/mao(113).jpg',\n",
       " '/kaggle/input/mao-img/mao(45).jpg',\n",
       " '/kaggle/input/mao-img/mao(125).jpg',\n",
       " '/kaggle/input/mao-img/mao(103).jpg',\n",
       " '/kaggle/input/mao-img/mao(99).jpg',\n",
       " '/kaggle/input/mao-img/mao(149).jpg',\n",
       " '/kaggle/input/mao-img/mao(137).jpg',\n",
       " '/kaggle/input/mao-img/mao(31).jpg',\n",
       " '/kaggle/input/mao-img/mao(19).jpg',\n",
       " '/kaggle/input/mao-img/mao(141).jpg',\n",
       " '/kaggle/input/mao-img/mao(154).jpg',\n",
       " '/kaggle/input/mao-img/mao(172).jpg',\n",
       " '/kaggle/input/mao-img/mao(78).jpg',\n",
       " '/kaggle/input/mao-img/mao(193).jpg',\n",
       " '/kaggle/input/mao-img/mao(161).jpg',\n",
       " '/kaggle/input/mao-img/mao(29).jpg',\n",
       " '/kaggle/input/mao-img/mao(196).jpg',\n",
       " '/kaggle/input/mao-img/mao(40).jpg',\n",
       " '/kaggle/input/mao-img/mao(119).jpg',\n",
       " '/kaggle/input/mao-img/mao(83).jpg',\n",
       " '/kaggle/input/mao-img/mao(96).jpg',\n",
       " '/kaggle/input/mao-img/mao(44).jpg',\n",
       " '/kaggle/input/mao-img/mao(93).jpg',\n",
       " '/kaggle/input/mao-img/mao(81).jpg',\n",
       " '/kaggle/input/mao-img/mao(22).jpg',\n",
       " '/kaggle/input/mao-img/mao(49).jpg',\n",
       " '/kaggle/input/mao-img/mao(144).jpg',\n",
       " '/kaggle/input/mao-img/mao(164).jpg',\n",
       " '/kaggle/input/mao-img/mao(73).jpg',\n",
       " '/kaggle/input/mao-img/mao(111).jpg',\n",
       " '/kaggle/input/mao-img/mao(157).jpg',\n",
       " '/kaggle/input/mao-img/mao(108).jpg',\n",
       " '/kaggle/input/mao-img/mao(128).jpg',\n",
       " '/kaggle/input/mao-img/mao(37).jpg',\n",
       " '/kaggle/input/mao-img/mao(90).jpg',\n",
       " '/kaggle/input/mao-img/mao(20).jpg',\n",
       " '/kaggle/input/mao-img/mao(140).jpg',\n",
       " '/kaggle/input/mao-img/mao(174).jpg',\n",
       " '/kaggle/input/mao-img/mao(76).jpg',\n",
       " '/kaggle/input/mao-img/mao(127).jpg',\n",
       " '/kaggle/input/mao-img/mao(66).jpg',\n",
       " '/kaggle/input/mao-img/mao(74).jpg',\n",
       " '/kaggle/input/mao-img/mao(67).jpg',\n",
       " '/kaggle/input/mao-img/mao(54).jpg',\n",
       " '/kaggle/input/mao-img/mao(151).jpg',\n",
       " '/kaggle/input/mao-img/mao(84).jpg']"
      ]
     },
     "execution_count": 2,
     "metadata": {},
     "output_type": "execute_result"
    }
   ],
   "source": [
    "path_mao = glob.glob(\"/kaggle/input/mao-img/*.jpg\")\n",
    "path_mao"
   ]
  },
  {
   "cell_type": "code",
   "execution_count": 3,
   "metadata": {
    "execution": {
     "iopub.execute_input": "2020-10-26T09:51:16.816168Z",
     "iopub.status.busy": "2020-10-26T09:51:16.815318Z",
     "iopub.status.idle": "2020-10-26T09:51:16.866373Z",
     "shell.execute_reply": "2020-10-26T09:51:16.865666Z"
    },
    "papermill": {
     "duration": 0.095112,
     "end_time": "2020-10-26T09:51:16.866521",
     "exception": false,
     "start_time": "2020-10-26T09:51:16.771409",
     "status": "completed"
    },
    "tags": []
   },
   "outputs": [
    {
     "data": {
      "text/plain": [
       "['/kaggle/input/kitani-img/kitani(4).jpg',\n",
       " '/kaggle/input/kitani-img/kitani(23).jpg',\n",
       " '/kaggle/input/kitani-img/kitani(16).jpg',\n",
       " '/kaggle/input/kitani-img/kitani(20).jpg',\n",
       " '/kaggle/input/kitani-img/kitani(51).jpg',\n",
       " '/kaggle/input/kitani-img/kitani(90).jpg',\n",
       " '/kaggle/input/kitani-img/kitani(47).jpg',\n",
       " '/kaggle/input/kitani-img/kitani(15).jpg',\n",
       " '/kaggle/input/kitani-img/kitani(10).jpg',\n",
       " '/kaggle/input/kitani-img/kitani(83).jpg',\n",
       " '/kaggle/input/kitani-img/kitani(59).jpg',\n",
       " '/kaggle/input/kitani-img/kitani(78).jpg',\n",
       " '/kaggle/input/kitani-img/kitani(12).jpg',\n",
       " '/kaggle/input/kitani-img/kitani(71).jpg',\n",
       " '/kaggle/input/kitani-img/kitani(61).jpg',\n",
       " '/kaggle/input/kitani-img/kitani(100).jpg',\n",
       " '/kaggle/input/kitani-img/kitani(65).jpg',\n",
       " '/kaggle/input/kitani-img/kitani(28).jpg',\n",
       " '/kaggle/input/kitani-img/kitani(25).jpg',\n",
       " '/kaggle/input/kitani-img/kitani(88).jpg',\n",
       " '/kaggle/input/kitani-img/kitani(84).jpg',\n",
       " '/kaggle/input/kitani-img/kitani(87).jpg',\n",
       " '/kaggle/input/kitani-img/kitani(35).jpg',\n",
       " '/kaggle/input/kitani-img/kitani(32).jpg',\n",
       " '/kaggle/input/kitani-img/kitani(38).jpg',\n",
       " '/kaggle/input/kitani-img/kitani(11).jpg',\n",
       " '/kaggle/input/kitani-img/kitani(33).jpg',\n",
       " '/kaggle/input/kitani-img/kitani(82).jpg',\n",
       " '/kaggle/input/kitani-img/kitani(67).jpg',\n",
       " '/kaggle/input/kitani-img/kitani(98).jpg',\n",
       " '/kaggle/input/kitani-img/kitani(58).jpg',\n",
       " '/kaggle/input/kitani-img/kitani(27).jpg',\n",
       " '/kaggle/input/kitani-img/kitani(41).jpg',\n",
       " '/kaggle/input/kitani-img/kitani(80).jpg',\n",
       " '/kaggle/input/kitani-img/kitani(44).jpg',\n",
       " '/kaggle/input/kitani-img/kitani(39).jpg',\n",
       " '/kaggle/input/kitani-img/kitani(93).jpg',\n",
       " '/kaggle/input/kitani-img/kitani(26).jpg',\n",
       " '/kaggle/input/kitani-img/kitani(66).jpg',\n",
       " '/kaggle/input/kitani-img/kitani(21).jpg',\n",
       " '/kaggle/input/kitani-img/kitani(76).jpg',\n",
       " '/kaggle/input/kitani-img/kitani(72).jpg',\n",
       " '/kaggle/input/kitani-img/kitani(62).jpg',\n",
       " '/kaggle/input/kitani-img/kitani(30).jpg',\n",
       " '/kaggle/input/kitani-img/kitani(31).jpg',\n",
       " '/kaggle/input/kitani-img/kitani(7).jpg',\n",
       " '/kaggle/input/kitani-img/kitani(2).jpg',\n",
       " '/kaggle/input/kitani-img/kitani(69).jpg',\n",
       " '/kaggle/input/kitani-img/kitani(49).jpg',\n",
       " '/kaggle/input/kitani-img/kitani(14).jpg',\n",
       " '/kaggle/input/kitani-img/kitani(89).jpg',\n",
       " '/kaggle/input/kitani-img/kitani(63).jpg',\n",
       " '/kaggle/input/kitani-img/kitani(19).jpg',\n",
       " '/kaggle/input/kitani-img/kitani(91).jpg',\n",
       " '/kaggle/input/kitani-img/kitani(37).jpg',\n",
       " '/kaggle/input/kitani-img/kitani(36).jpg',\n",
       " '/kaggle/input/kitani-img/kitani(45).jpg',\n",
       " '/kaggle/input/kitani-img/kitani(6).jpg',\n",
       " '/kaggle/input/kitani-img/kitani(64).jpg',\n",
       " '/kaggle/input/kitani-img/kitani(13).jpg',\n",
       " '/kaggle/input/kitani-img/kitani(8).jpg',\n",
       " '/kaggle/input/kitani-img/kitani(94).jpg',\n",
       " '/kaggle/input/kitani-img/kitani(24).jpg',\n",
       " '/kaggle/input/kitani-img/kitani(56).jpg',\n",
       " '/kaggle/input/kitani-img/kitani(75).jpg',\n",
       " '/kaggle/input/kitani-img/kitani(96).jpg',\n",
       " '/kaggle/input/kitani-img/kitani(50).jpg',\n",
       " '/kaggle/input/kitani-img/kitani(74).jpg',\n",
       " '/kaggle/input/kitani-img/kitani(46).jpg',\n",
       " '/kaggle/input/kitani-img/kitani(97).jpg',\n",
       " '/kaggle/input/kitani-img/kitani(70).jpg',\n",
       " '/kaggle/input/kitani-img/kitani(77).jpg',\n",
       " '/kaggle/input/kitani-img/kitani(5).jpg',\n",
       " '/kaggle/input/kitani-img/kitani(1).jpg',\n",
       " '/kaggle/input/kitani-img/kitani(29).jpg',\n",
       " '/kaggle/input/kitani-img/kitani(17).jpg',\n",
       " '/kaggle/input/kitani-img/kitani(54).jpg',\n",
       " '/kaggle/input/kitani-img/kitani(40).jpg',\n",
       " '/kaggle/input/kitani-img/kitani(99).jpg',\n",
       " '/kaggle/input/kitani-img/kitani(60).jpg',\n",
       " '/kaggle/input/kitani-img/kitani(43).jpg',\n",
       " '/kaggle/input/kitani-img/kitani(18).jpg',\n",
       " '/kaggle/input/kitani-img/kitani(68).jpg',\n",
       " '/kaggle/input/kitani-img/kitani(86).jpg',\n",
       " '/kaggle/input/kitani-img/kitani(52).jpg',\n",
       " '/kaggle/input/kitani-img/kitani(22).jpg',\n",
       " '/kaggle/input/kitani-img/kitani(55).jpg',\n",
       " '/kaggle/input/kitani-img/kitani(3).jpg',\n",
       " '/kaggle/input/kitani-img/kitani(42).jpg',\n",
       " '/kaggle/input/kitani-img/kitani(92).jpg',\n",
       " '/kaggle/input/kitani-img/kitani(34).jpg',\n",
       " '/kaggle/input/kitani-img/kitani(85).jpg',\n",
       " '/kaggle/input/kitani-img/kitani(81).jpg',\n",
       " '/kaggle/input/kitani-img/kitani(53).jpg',\n",
       " '/kaggle/input/kitani-img/kitani(48).jpg',\n",
       " '/kaggle/input/kitani-img/kitani(95).jpg',\n",
       " '/kaggle/input/kitani-img/kitani(73).jpg',\n",
       " '/kaggle/input/kitani-img/kitani(9).jpg',\n",
       " '/kaggle/input/kitani-img/kitani(79).jpg',\n",
       " '/kaggle/input/kitani-img/kitani(57).jpg']"
      ]
     },
     "execution_count": 3,
     "metadata": {},
     "output_type": "execute_result"
    }
   ],
   "source": [
    "path_kitani = glob.glob(\"/kaggle/input/kitani-img/*.jpg\")\n",
    "path_kitani"
   ]
  },
  {
   "cell_type": "code",
   "execution_count": 4,
   "metadata": {
    "execution": {
     "iopub.execute_input": "2020-10-26T09:51:16.951586Z",
     "iopub.status.busy": "2020-10-26T09:51:16.950566Z",
     "iopub.status.idle": "2020-10-26T09:51:16.954977Z",
     "shell.execute_reply": "2020-10-26T09:51:16.954371Z"
    },
    "papermill": {
     "duration": 0.048992,
     "end_time": "2020-10-26T09:51:16.955150",
     "exception": false,
     "start_time": "2020-10-26T09:51:16.906158",
     "status": "completed"
    },
    "tags": []
   },
   "outputs": [
    {
     "name": "stdout",
     "output_type": "stream",
     "text": [
      "200\n",
      "100\n"
     ]
    }
   ],
   "source": [
    "# 読み込んだ画像の数を確認\n",
    "print(len(path_mao))\n",
    "print(len(path_kitani))"
   ]
  },
  {
   "cell_type": "code",
   "execution_count": 5,
   "metadata": {
    "execution": {
     "iopub.execute_input": "2020-10-26T09:51:17.047202Z",
     "iopub.status.busy": "2020-10-26T09:51:17.045967Z",
     "iopub.status.idle": "2020-10-26T09:51:17.369805Z",
     "shell.execute_reply": "2020-10-26T09:51:17.368868Z"
    },
    "papermill": {
     "duration": 0.375239,
     "end_time": "2020-10-26T09:51:17.369949",
     "exception": false,
     "start_time": "2020-10-26T09:51:16.994710",
     "status": "completed"
    },
    "tags": []
   },
   "outputs": [],
   "source": [
    "import matplotlib.pyplot as plt\n",
    "import cv2"
   ]
  },
  {
   "cell_type": "code",
   "execution_count": 6,
   "metadata": {
    "execution": {
     "iopub.execute_input": "2020-10-26T09:51:17.458758Z",
     "iopub.status.busy": "2020-10-26T09:51:17.457804Z",
     "iopub.status.idle": "2020-10-26T09:51:17.462367Z",
     "shell.execute_reply": "2020-10-26T09:51:17.461331Z"
    },
    "papermill": {
     "duration": 0.052339,
     "end_time": "2020-10-26T09:51:17.462726",
     "exception": false,
     "start_time": "2020-10-26T09:51:17.410387",
     "status": "completed"
    },
    "tags": []
   },
   "outputs": [],
   "source": [
    "# 画像を50x50で表示する\n",
    "def disp_img(path):\n",
    "    img = cv2.imread(path)\n",
    "    img = cv2.cvtColor(img, cv2.COLOR_BGR2RGB)    # BGRで読み込まれているのでRGBに直す\n",
    "    img = cv2.resize(img, (50, 50)) # 50x50にresize\n",
    "    \n",
    "    plt.imshow(img)\n",
    "    plt.show()"
   ]
  },
  {
   "cell_type": "code",
   "execution_count": 7,
   "metadata": {
    "execution": {
     "iopub.execute_input": "2020-10-26T09:51:17.548740Z",
     "iopub.status.busy": "2020-10-26T09:51:17.547936Z",
     "iopub.status.idle": "2020-10-26T09:51:17.880040Z",
     "shell.execute_reply": "2020-10-26T09:51:17.879421Z"
    },
    "papermill": {
     "duration": 0.376936,
     "end_time": "2020-10-26T09:51:17.880190",
     "exception": false,
     "start_time": "2020-10-26T09:51:17.503254",
     "status": "completed"
    },
    "tags": []
   },
   "outputs": [
    {
     "data": {
      "image/png": "[encoded data removed]",
      "text/plain": [
       "<Figure size 432x288 with 1 Axes>"
      ]
     },
     "metadata": {
      "needs_background": "light"
     },
     "output_type": "display_data"
    }
   ],
   "source": [
    "disp_img(path_mao[3])"
   ]
  },
  {
   "cell_type": "code",
   "execution_count": 8,
   "metadata": {
    "execution": {
     "iopub.execute_input": "2020-10-26T09:51:17.967308Z",
     "iopub.status.busy": "2020-10-26T09:51:17.966325Z",
     "iopub.status.idle": "2020-10-26T09:51:18.307313Z",
     "shell.execute_reply": "2020-10-26T09:51:18.306495Z"
    },
    "papermill": {
     "duration": 0.386054,
     "end_time": "2020-10-26T09:51:18.307444",
     "exception": false,
     "start_time": "2020-10-26T09:51:17.921390",
     "status": "completed"
    },
    "tags": []
   },
   "outputs": [
    {
     "data": {
      "image/png": "[encoded data removed]",
      "text/plain": [
       "<Figure size 432x288 with 1 Axes>"
      ]
     },
     "metadata": {
      "needs_background": "light"
     },
     "output_type": "display_data"
    }
   ],
   "source": [
    "disp_img(path_mao[0])"
   ]
  },
  {
   "cell_type": "code",
   "execution_count": 9,
   "metadata": {
    "execution": {
     "iopub.execute_input": "2020-10-26T09:51:18.399071Z",
     "iopub.status.busy": "2020-10-26T09:51:18.398103Z",
     "iopub.status.idle": "2020-10-26T09:51:18.612387Z",
     "shell.execute_reply": "2020-10-26T09:51:18.611497Z"
    },
    "papermill": {
     "duration": 0.261105,
     "end_time": "2020-10-26T09:51:18.612526",
     "exception": false,
     "start_time": "2020-10-26T09:51:18.351421",
     "status": "completed"
    },
    "tags": []
   },
   "outputs": [
    {
     "data": {
      "image/png": "[encoded data removed]",
      "text/plain": [
       "<Figure size 432x288 with 1 Axes>"
      ]
     },
     "metadata": {
      "needs_background": "light"
     },
     "output_type": "display_data"
    }
   ],
   "source": [
    "disp_img(path_mao[1])"
   ]
  },
  {
   "cell_type": "code",
   "execution_count": 10,
   "metadata": {
    "execution": {
     "iopub.execute_input": "2020-10-26T09:51:18.708634Z",
     "iopub.status.busy": "2020-10-26T09:51:18.707759Z",
     "iopub.status.idle": "2020-10-26T09:51:18.901081Z",
     "shell.execute_reply": "2020-10-26T09:51:18.900261Z"
    },
    "papermill": {
     "duration": 0.242606,
     "end_time": "2020-10-26T09:51:18.901219",
     "exception": false,
     "start_time": "2020-10-26T09:51:18.658613",
     "status": "completed"
    },
    "tags": []
   },
   "outputs": [
    {
     "data": {
      "image/png": "[encoded data removed]",
      "text/plain": [
       "<Figure size 432x288 with 1 Axes>"
      ]
     },
     "metadata": {
      "needs_background": "light"
     },
     "output_type": "display_data"
    }
   ],
   "source": [
    "disp_img(path_mao[123])"
   ]
  },
  {
   "cell_type": "code",
   "execution_count": 11,
   "metadata": {
    "execution": {
     "iopub.execute_input": "2020-10-26T09:51:18.994627Z",
     "iopub.status.busy": "2020-10-26T09:51:18.993803Z",
     "iopub.status.idle": "2020-10-26T09:51:19.187976Z",
     "shell.execute_reply": "2020-10-26T09:51:19.188839Z"
    },
    "papermill": {
     "duration": 0.243678,
     "end_time": "2020-10-26T09:51:19.189043",
     "exception": false,
     "start_time": "2020-10-26T09:51:18.945365",
     "status": "completed"
    },
    "tags": []
   },
   "outputs": [
    {
     "data": {
      "image/png": "[encoded data removed]",
      "text/plain": [
       "<Figure size 432x288 with 1 Axes>"
      ]
     },
     "metadata": {
      "needs_background": "light"
     },
     "output_type": "display_data"
    }
   ],
   "source": [
    "disp_img(path_kitani[3])"
   ]
  },
  {
   "cell_type": "code",
   "execution_count": 12,
   "metadata": {
    "execution": {
     "iopub.execute_input": "2020-10-26T09:51:19.290687Z",
     "iopub.status.busy": "2020-10-26T09:51:19.289830Z",
     "iopub.status.idle": "2020-10-26T09:51:19.466527Z",
     "shell.execute_reply": "2020-10-26T09:51:19.465754Z"
    },
    "papermill": {
     "duration": 0.227021,
     "end_time": "2020-10-26T09:51:19.466656",
     "exception": false,
     "start_time": "2020-10-26T09:51:19.239635",
     "status": "completed"
    },
    "tags": []
   },
   "outputs": [
    {
     "data": {
      "image/png": "[encoded data removed]",
      "text/plain": [
       "<Figure size 432x288 with 1 Axes>"
      ]
     },
     "metadata": {
      "needs_background": "light"
     },
     "output_type": "display_data"
    }
   ],
   "source": [
    "disp_img(path_kitani[0])"
   ]
  },
  {
   "cell_type": "code",
   "execution_count": 13,
   "metadata": {
    "execution": {
     "iopub.execute_input": "2020-10-26T09:51:19.567777Z",
     "iopub.status.busy": "2020-10-26T09:51:19.566956Z",
     "iopub.status.idle": "2020-10-26T09:51:19.760816Z",
     "shell.execute_reply": "2020-10-26T09:51:19.759965Z"
    },
    "papermill": {
     "duration": 0.245759,
     "end_time": "2020-10-26T09:51:19.760952",
     "exception": false,
     "start_time": "2020-10-26T09:51:19.515193",
     "status": "completed"
    },
    "tags": []
   },
   "outputs": [
    {
     "data": {
      "image/png": "[encoded data removed]",
      "text/plain": [
       "<Figure size 432x288 with 1 Axes>"
      ]
     },
     "metadata": {
      "needs_background": "light"
     },
     "output_type": "display_data"
    }
   ],
   "source": [
    "disp_img(path_kitani[34])"
   ]
  },
  {
   "cell_type": "markdown",
   "metadata": {
    "papermill": {
     "duration": 0.04674,
     "end_time": "2020-10-26T09:51:19.855919",
     "exception": false,
     "start_time": "2020-10-26T09:51:19.809179",
     "status": "completed"
    },
    "tags": []
   },
   "source": [
    "## maoデータ拡張"
   ]
  },
  {
   "cell_type": "markdown",
   "metadata": {
    "papermill": {
     "duration": 0.049217,
     "end_time": "2020-10-26T09:51:19.952343",
     "exception": false,
     "start_time": "2020-10-26T09:51:19.903126",
     "status": "completed"
    },
    "tags": []
   },
   "source": [
    "### 回転によるデータ拡張"
   ]
  },
  {
   "cell_type": "code",
   "execution_count": 14,
   "metadata": {
    "execution": {
     "iopub.execute_input": "2020-10-26T09:51:20.071694Z",
     "iopub.status.busy": "2020-10-26T09:51:20.070778Z",
     "iopub.status.idle": "2020-10-26T09:51:33.284965Z",
     "shell.execute_reply": "2020-10-26T09:51:33.284239Z"
    },
    "papermill": {
     "duration": 13.284004,
     "end_time": "2020-10-26T09:51:33.285118",
     "exception": false,
     "start_time": "2020-10-26T09:51:20.001114",
     "status": "completed"
    },
    "tags": []
   },
   "outputs": [],
   "source": [
    "# データを格納するリスト\n",
    "mao = []\n",
    "\n",
    "center = (25, 25)    # 回転の中心を指定\n",
    "angles = list(range(-20, 21, 1))    # -20~20度の回転\n",
    "size = (50, 50)\n",
    "\n",
    "for i in range(len(path_mao)):\n",
    "\n",
    "    img = cv2.imread(path_mao[i])\n",
    "    img = cv2.cvtColor(img, cv2.COLOR_BGR2RGB)\n",
    "    img = cv2.resize(img, size)\n",
    "\n",
    "    # 回転によってでてくる黒色の背景をなくすために拡大\n",
    "    for angle in angles:\n",
    "\n",
    "        if angle <= -10:\n",
    "            trans = cv2.getRotationMatrix2D(center, angle, 1.3)    # 1.3倍\n",
    "            img_rotate = cv2.warpAffine(img, trans, size)\n",
    "            mao.append(img_rotate)\n",
    "\n",
    "        elif -10 < angle <= 10:\n",
    "            trans = cv2.getRotationMatrix2D(center, angle, 1.15)    #1.15倍\n",
    "            img_rotate = cv2.warpAffine(img, trans, size)\n",
    "            mao.append(img_rotate)\n",
    "\n",
    "        elif angle > 10:\n",
    "            trans = cv2.getRotationMatrix2D(center, angle, 1.3)    # 1.3倍\n",
    "            img_rotate = cv2.warpAffine(img, trans, size)\n",
    "            mao.append(img_rotate)"
   ]
  },
  {
   "cell_type": "code",
   "execution_count": 15,
   "metadata": {
    "execution": {
     "iopub.execute_input": "2020-10-26T09:51:33.388902Z",
     "iopub.status.busy": "2020-10-26T09:51:33.387128Z",
     "iopub.status.idle": "2020-10-26T09:51:33.434129Z",
     "shell.execute_reply": "2020-10-26T09:51:33.433349Z"
    },
    "papermill": {
     "duration": 0.101322,
     "end_time": "2020-10-26T09:51:33.434266",
     "exception": false,
     "start_time": "2020-10-26T09:51:33.332944",
     "status": "completed"
    },
    "tags": []
   },
   "outputs": [
    {
     "data": {
      "text/plain": [
       "(8200, 50, 50, 3)"
      ]
     },
     "execution_count": 15,
     "metadata": {},
     "output_type": "execute_result"
    }
   ],
   "source": [
    "# 形状を確認\n",
    "np.array(mao).shape"
   ]
  },
  {
   "cell_type": "markdown",
   "metadata": {
    "papermill": {
     "duration": 0.047962,
     "end_time": "2020-10-26T09:51:33.530541",
     "exception": false,
     "start_time": "2020-10-26T09:51:33.482579",
     "status": "completed"
    },
    "tags": []
   },
   "source": [
    "### 彩度変更によるデータ拡張"
   ]
  },
  {
   "cell_type": "code",
   "execution_count": 16,
   "metadata": {
    "execution": {
     "iopub.execute_input": "2020-10-26T09:51:33.637289Z",
     "iopub.status.busy": "2020-10-26T09:51:33.636181Z",
     "iopub.status.idle": "2020-10-26T09:51:34.867719Z",
     "shell.execute_reply": "2020-10-26T09:51:34.866908Z"
    },
    "papermill": {
     "duration": 1.288984,
     "end_time": "2020-10-26T09:51:34.867858",
     "exception": false,
     "start_time": "2020-10-26T09:51:33.578874",
     "status": "completed"
    },
    "tags": []
   },
   "outputs": [],
   "source": [
    "# 彩度を0.7倍,1.3倍　8200 x 3(1倍,0.7倍,1.3倍) = 24600に拡張\n",
    "s = [0.7, 1.3]\n",
    "\n",
    "for saido in s:\n",
    "    for i in range(8200):\n",
    "        img_hsv = cv2.cvtColor(mao[i], cv2.COLOR_RGB2HSV) # RGB -> HSV\n",
    "        img_hsv[:, :, (1)] = img_hsv[:, :, (1)] * saido  # 彩度を計算\n",
    "        img_hsv[:, :, (2)] = img_hsv[:, :, (2)] * 1.0  # 明度を計算        \n",
    "        img_RGB = cv2.cvtColor(img_hsv, cv2.COLOR_HSV2RGB) # HSV -> RGB\n",
    "        \n",
    "        mao.append(img_RGB)"
   ]
  },
  {
   "cell_type": "code",
   "execution_count": 17,
   "metadata": {
    "execution": {
     "iopub.execute_input": "2020-10-26T09:51:34.974208Z",
     "iopub.status.busy": "2020-10-26T09:51:34.973321Z",
     "iopub.status.idle": "2020-10-26T09:51:35.102716Z",
     "shell.execute_reply": "2020-10-26T09:51:35.101942Z"
    },
    "papermill": {
     "duration": 0.186161,
     "end_time": "2020-10-26T09:51:35.102837",
     "exception": false,
     "start_time": "2020-10-26T09:51:34.916676",
     "status": "completed"
    },
    "tags": []
   },
   "outputs": [
    {
     "data": {
      "text/plain": [
       "(24600, 50, 50, 3)"
      ]
     },
     "execution_count": 17,
     "metadata": {},
     "output_type": "execute_result"
    }
   ],
   "source": [
    "np.array(mao).shape"
   ]
  },
  {
   "cell_type": "markdown",
   "metadata": {
    "papermill": {
     "duration": 0.049723,
     "end_time": "2020-10-26T09:51:35.201985",
     "exception": false,
     "start_time": "2020-10-26T09:51:35.152262",
     "status": "completed"
    },
    "tags": []
   },
   "source": [
    "### 明度変更によるデータ拡張"
   ]
  },
  {
   "cell_type": "code",
   "execution_count": 18,
   "metadata": {
    "execution": {
     "iopub.execute_input": "2020-10-26T09:51:35.311413Z",
     "iopub.status.busy": "2020-10-26T09:51:35.310592Z",
     "iopub.status.idle": "2020-10-26T09:51:39.004592Z",
     "shell.execute_reply": "2020-10-26T09:51:39.003427Z"
    },
    "papermill": {
     "duration": 3.751932,
     "end_time": "2020-10-26T09:51:39.004773",
     "exception": false,
     "start_time": "2020-10-26T09:51:35.252841",
     "status": "completed"
    },
    "tags": []
   },
   "outputs": [],
   "source": [
    "# 明度を0.7倍,1.3倍　24600 x 3(1倍,0.7倍,1.3倍) = 73800に拡張\n",
    "m = [0.7, 1.3]\n",
    "\n",
    "for meido in m:\n",
    "    for i in range(24600):\n",
    "        img_hsv = cv2.cvtColor(mao[i], cv2.COLOR_RGB2HSV) # RGB -> HSV\n",
    "        img_hsv[:, :, (1)] = img_hsv[:, :, (1)] * 1.0  # 彩度を計算\n",
    "        img_hsv[:, :, (2)] = img_hsv[:, :, (2)] * meido  # 明度を計算        \n",
    "        img_RGB = cv2.cvtColor(img_hsv, cv2.COLOR_HSV2RGB) # HSV -> RGB\n",
    "        \n",
    "        mao.append(img_RGB)"
   ]
  },
  {
   "cell_type": "code",
   "execution_count": 19,
   "metadata": {
    "execution": {
     "iopub.execute_input": "2020-10-26T09:51:39.124520Z",
     "iopub.status.busy": "2020-10-26T09:51:39.123667Z",
     "iopub.status.idle": "2020-10-26T09:51:39.490718Z",
     "shell.execute_reply": "2020-10-26T09:51:39.489995Z"
    },
    "papermill": {
     "duration": 0.431679,
     "end_time": "2020-10-26T09:51:39.490850",
     "exception": false,
     "start_time": "2020-10-26T09:51:39.059171",
     "status": "completed"
    },
    "tags": []
   },
   "outputs": [
    {
     "data": {
      "text/plain": [
       "(73800, 50, 50, 3)"
      ]
     },
     "execution_count": 19,
     "metadata": {},
     "output_type": "execute_result"
    }
   ],
   "source": [
    "np.array(mao).shape"
   ]
  },
  {
   "cell_type": "markdown",
   "metadata": {
    "papermill": {
     "duration": 0.050079,
     "end_time": "2020-10-26T09:51:39.590781",
     "exception": false,
     "start_time": "2020-10-26T09:51:39.540702",
     "status": "completed"
    },
    "tags": []
   },
   "source": [
    "## kitaniデータ拡張"
   ]
  },
  {
   "cell_type": "code",
   "execution_count": 20,
   "metadata": {
    "execution": {
     "iopub.execute_input": "2020-10-26T09:51:39.705201Z",
     "iopub.status.busy": "2020-10-26T09:51:39.699894Z",
     "iopub.status.idle": "2020-10-26T09:51:47.482430Z",
     "shell.execute_reply": "2020-10-26T09:51:47.481705Z"
    },
    "papermill": {
     "duration": 7.841671,
     "end_time": "2020-10-26T09:51:47.482562",
     "exception": false,
     "start_time": "2020-10-26T09:51:39.640891",
     "status": "completed"
    },
    "tags": []
   },
   "outputs": [],
   "source": [
    "kitani = []\n",
    "\n",
    "for i in range(len(path_kitani)):\n",
    "\n",
    "    img = cv2.imread(path_kitani[i])\n",
    "    img = cv2.cvtColor(img, cv2.COLOR_BGR2RGB)\n",
    "    img = cv2.resize(img, size)\n",
    "\n",
    "    for angle in angles:\n",
    "\n",
    "        if angle <= -10:\n",
    "            trans = cv2.getRotationMatrix2D(center, angle, 1.3)    # 1.3倍\n",
    "            img_rotate = cv2.warpAffine(img, trans, size)\n",
    "            kitani.append(img_rotate)\n",
    "\n",
    "        elif -10 < angle <= 10:\n",
    "            trans = cv2.getRotationMatrix2D(center, angle, 1.15)    #1.15倍\n",
    "            img_rotate = cv2.warpAffine(img, trans, size)\n",
    "            kitani.append(img_rotate)\n",
    "\n",
    "        elif angle > 10:\n",
    "            trans = cv2.getRotationMatrix2D(center, angle, 1.3)    # 1.3倍\n",
    "            img_rotate = cv2.warpAffine(img, trans, size)\n",
    "            kitani.append(img_rotate)\n",
    "            \n",
    "for saido in s:\n",
    "    for i in range(4100):\n",
    "        img_hsv = cv2.cvtColor(kitani[i], cv2.COLOR_RGB2HSV) # RGB -> HSV\n",
    "        img_hsv[:, :, (1)] = img_hsv[:, :, (1)] * saido  # 彩度を計算\n",
    "        img_hsv[:, :, (2)] = img_hsv[:, :, (2)] * 1.0  # 明度を計算        \n",
    "        img_RGB = cv2.cvtColor(img_hsv, cv2.COLOR_HSV2RGB) # HSV -> RGB\n",
    "        \n",
    "        kitani.append(img_RGB)\n",
    "        \n",
    "for meido in m:\n",
    "    for i in range(12300):\n",
    "        img_hsv = cv2.cvtColor(kitani[i], cv2.COLOR_RGB2HSV) # RGB -> HSV\n",
    "        img_hsv[:, :, (1)] = img_hsv[:, :, (1)] * 1.0  # 彩度を計算\n",
    "        img_hsv[:, :, (2)] = img_hsv[:, :, (2)] * meido  # 明度を計算        \n",
    "        img_RGB = cv2.cvtColor(img_hsv, cv2.COLOR_HSV2RGB) # HSV -> RGB\n",
    "        \n",
    "        kitani.append(img_RGB)"
   ]
  },
  {
   "cell_type": "code",
   "execution_count": 21,
   "metadata": {
    "execution": {
     "iopub.execute_input": "2020-10-26T09:51:47.594069Z",
     "iopub.status.busy": "2020-10-26T09:51:47.593271Z",
     "iopub.status.idle": "2020-10-26T09:51:47.714869Z",
     "shell.execute_reply": "2020-10-26T09:51:47.713986Z"
    },
    "papermill": {
     "duration": 0.181646,
     "end_time": "2020-10-26T09:51:47.715009",
     "exception": false,
     "start_time": "2020-10-26T09:51:47.533363",
     "status": "completed"
    },
    "tags": []
   },
   "outputs": [
    {
     "data": {
      "text/plain": [
       "(36900, 50, 50, 3)"
      ]
     },
     "execution_count": 21,
     "metadata": {},
     "output_type": "execute_result"
    }
   ],
   "source": [
    "np.array(kitani).shape"
   ]
  },
  {
   "cell_type": "code",
   "execution_count": 22,
   "metadata": {
    "execution": {
     "iopub.execute_input": "2020-10-26T09:51:47.832155Z",
     "iopub.status.busy": "2020-10-26T09:51:47.831362Z",
     "iopub.status.idle": "2020-10-26T09:51:48.264276Z",
     "shell.execute_reply": "2020-10-26T09:51:48.263590Z"
    },
    "papermill": {
     "duration": 0.497599,
     "end_time": "2020-10-26T09:51:48.264418",
     "exception": false,
     "start_time": "2020-10-26T09:51:47.766819",
     "status": "completed"
    },
    "tags": []
   },
   "outputs": [],
   "source": [
    "mao = np.array(mao)\n",
    "kitani = np.array(kitani)"
   ]
  },
  {
   "cell_type": "code",
   "execution_count": 23,
   "metadata": {
    "execution": {
     "iopub.execute_input": "2020-10-26T09:51:48.375227Z",
     "iopub.status.busy": "2020-10-26T09:51:48.374075Z",
     "iopub.status.idle": "2020-10-26T09:51:48.762799Z",
     "shell.execute_reply": "2020-10-26T09:51:48.762140Z"
    },
    "papermill": {
     "duration": 0.447556,
     "end_time": "2020-10-26T09:51:48.762948",
     "exception": false,
     "start_time": "2020-10-26T09:51:48.315392",
     "status": "completed"
    },
    "tags": []
   },
   "outputs": [],
   "source": [
    "# maoから7万,kitaniから3万のデータをランダムに選ぶ\n",
    "id_mao = np.random.randint(len(mao), size=70000)\n",
    "id_kitani = np.random.randint(len(kitani), size=30000)\n",
    "\n",
    "mao = mao[id_mao]\n",
    "kitani = kitani[id_kitani]"
   ]
  },
  {
   "cell_type": "code",
   "execution_count": 24,
   "metadata": {
    "execution": {
     "iopub.execute_input": "2020-10-26T09:51:48.873288Z",
     "iopub.status.busy": "2020-10-26T09:51:48.872316Z",
     "iopub.status.idle": "2020-10-26T09:51:48.875838Z",
     "shell.execute_reply": "2020-10-26T09:51:48.876628Z"
    },
    "papermill": {
     "duration": 0.061404,
     "end_time": "2020-10-26T09:51:48.876822",
     "exception": false,
     "start_time": "2020-10-26T09:51:48.815418",
     "status": "completed"
    },
    "tags": []
   },
   "outputs": [
    {
     "name": "stdout",
     "output_type": "stream",
     "text": [
      "(70000, 50, 50, 3)\n",
      "(30000, 50, 50, 3)\n"
     ]
    }
   ],
   "source": [
    "print(mao.shape)\n",
    "print(kitani.shape)"
   ]
  },
  {
   "cell_type": "code",
   "execution_count": 25,
   "metadata": {
    "execution": {
     "iopub.execute_input": "2020-10-26T09:51:48.986540Z",
     "iopub.status.busy": "2020-10-26T09:51:48.985661Z",
     "iopub.status.idle": "2020-10-26T09:51:49.373707Z",
     "shell.execute_reply": "2020-10-26T09:51:49.373022Z"
    },
    "papermill": {
     "duration": 0.444736,
     "end_time": "2020-10-26T09:51:49.373846",
     "exception": false,
     "start_time": "2020-10-26T09:51:48.929110",
     "status": "completed"
    },
    "tags": []
   },
   "outputs": [
    {
     "data": {
      "text/plain": [
       "(100000, 50, 50, 3)"
      ]
     },
     "execution_count": 25,
     "metadata": {},
     "output_type": "execute_result"
    }
   ],
   "source": [
    "X = np.vstack([mao, kitani])\n",
    "X.shape"
   ]
  },
  {
   "cell_type": "code",
   "execution_count": 26,
   "metadata": {
    "execution": {
     "iopub.execute_input": "2020-10-26T09:51:49.485960Z",
     "iopub.status.busy": "2020-10-26T09:51:49.485117Z",
     "iopub.status.idle": "2020-10-26T09:51:49.490474Z",
     "shell.execute_reply": "2020-10-26T09:51:49.489819Z"
    },
    "papermill": {
     "duration": 0.063631,
     "end_time": "2020-10-26T09:51:49.490606",
     "exception": false,
     "start_time": "2020-10-26T09:51:49.426975",
     "status": "completed"
    },
    "tags": []
   },
   "outputs": [
    {
     "name": "stdout",
     "output_type": "stream",
     "text": [
      "[1. 1. 1. ... 1. 1. 1.]\n",
      "(70000,)\n"
     ]
    }
   ],
   "source": [
    "# maoの正解ラベルを1にする\n",
    "y_mao = np.ones(len(mao))\n",
    "\n",
    "print(y_mao)\n",
    "print(y_mao.shape)"
   ]
  },
  {
   "cell_type": "code",
   "execution_count": 27,
   "metadata": {
    "execution": {
     "iopub.execute_input": "2020-10-26T09:51:49.603236Z",
     "iopub.status.busy": "2020-10-26T09:51:49.602038Z",
     "iopub.status.idle": "2020-10-26T09:51:49.606020Z",
     "shell.execute_reply": "2020-10-26T09:51:49.606670Z"
    },
    "papermill": {
     "duration": 0.063725,
     "end_time": "2020-10-26T09:51:49.606831",
     "exception": false,
     "start_time": "2020-10-26T09:51:49.543106",
     "status": "completed"
    },
    "tags": []
   },
   "outputs": [
    {
     "name": "stdout",
     "output_type": "stream",
     "text": [
      "[0. 0. 0. ... 0. 0. 0.]\n",
      "(30000,)\n"
     ]
    }
   ],
   "source": [
    "# kitaniの正解ラベルを0にする\n",
    "y_kitani = np.zeros(len(kitani))\n",
    "\n",
    "print(y_kitani)\n",
    "print(y_kitani.shape)"
   ]
  },
  {
   "cell_type": "code",
   "execution_count": 28,
   "metadata": {
    "execution": {
     "iopub.execute_input": "2020-10-26T09:51:49.726680Z",
     "iopub.status.busy": "2020-10-26T09:51:49.725402Z",
     "iopub.status.idle": "2020-10-26T09:51:49.732457Z",
     "shell.execute_reply": "2020-10-26T09:51:49.731040Z"
    },
    "papermill": {
     "duration": 0.070553,
     "end_time": "2020-10-26T09:51:49.732648",
     "exception": false,
     "start_time": "2020-10-26T09:51:49.662095",
     "status": "completed"
    },
    "tags": []
   },
   "outputs": [
    {
     "name": "stdout",
     "output_type": "stream",
     "text": [
      "[1. 1. 1. ... 0. 0. 0.]\n",
      "(100000,)\n"
     ]
    }
   ],
   "source": [
    "y = np.concatenate([y_mao, y_kitani])\n",
    "\n",
    "print(y)\n",
    "print(y.shape)"
   ]
  },
  {
   "cell_type": "markdown",
   "metadata": {
    "papermill": {
     "duration": 0.05606,
     "end_time": "2020-10-26T09:51:49.846828",
     "exception": false,
     "start_time": "2020-10-26T09:51:49.790768",
     "status": "completed"
    },
    "tags": []
   },
   "source": [
    "# CNN実装"
   ]
  },
  {
   "cell_type": "code",
   "execution_count": 29,
   "metadata": {
    "execution": {
     "iopub.execute_input": "2020-10-26T09:51:49.972581Z",
     "iopub.status.busy": "2020-10-26T09:51:49.971555Z",
     "iopub.status.idle": "2020-10-26T09:51:57.504306Z",
     "shell.execute_reply": "2020-10-26T09:51:57.503524Z"
    },
    "papermill": {
     "duration": 7.601729,
     "end_time": "2020-10-26T09:51:57.504446",
     "exception": false,
     "start_time": "2020-10-26T09:51:49.902717",
     "status": "completed"
    },
    "tags": []
   },
   "outputs": [],
   "source": [
    "from sklearn.model_selection import train_test_split\n",
    "from keras import Sequential, layers\n",
    "from keras.callbacks import EarlyStopping\n",
    "from keras.utils import np_utils"
   ]
  },
  {
   "cell_type": "code",
   "execution_count": 30,
   "metadata": {
    "execution": {
     "iopub.execute_input": "2020-10-26T09:51:57.623789Z",
     "iopub.status.busy": "2020-10-26T09:51:57.622949Z",
     "iopub.status.idle": "2020-10-26T09:51:58.003500Z",
     "shell.execute_reply": "2020-10-26T09:51:58.001566Z"
    },
    "papermill": {
     "duration": 0.444994,
     "end_time": "2020-10-26T09:51:58.003685",
     "exception": false,
     "start_time": "2020-10-26T09:51:57.558691",
     "status": "completed"
    },
    "tags": []
   },
   "outputs": [
    {
     "name": "stdout",
     "output_type": "stream",
     "text": [
      "(80000, 50, 50, 3)\n",
      "(20000, 50, 50, 3)\n"
     ]
    }
   ],
   "source": [
    "X_train, X_test, y_train, y_test = train_test_split(X, y, test_size=0.2, random_state=23)\n",
    "\n",
    "print(X_train.shape)\n",
    "print(X_test.shape)"
   ]
  },
  {
   "cell_type": "code",
   "execution_count": 31,
   "metadata": {
    "execution": {
     "iopub.execute_input": "2020-10-26T09:51:58.125358Z",
     "iopub.status.busy": "2020-10-26T09:51:58.124125Z",
     "iopub.status.idle": "2020-10-26T09:52:01.627078Z",
     "shell.execute_reply": "2020-10-26T09:52:01.626339Z"
    },
    "papermill": {
     "duration": 3.564948,
     "end_time": "2020-10-26T09:52:01.627210",
     "exception": false,
     "start_time": "2020-10-26T09:51:58.062262",
     "status": "completed"
    },
    "tags": []
   },
   "outputs": [],
   "source": [
    "# 正規化\n",
    "X_train_scaled = X_train / 255\n",
    "X_test_scaled = X_test / 255\n",
    "\n",
    "# one-hot labeling\n",
    "y_train_cat = np_utils.to_categorical(y_train)\n",
    "y_test_cat = np_utils.to_categorical(y_test)"
   ]
  },
  {
   "cell_type": "code",
   "execution_count": 32,
   "metadata": {
    "execution": {
     "iopub.execute_input": "2020-10-26T09:52:01.750385Z",
     "iopub.status.busy": "2020-10-26T09:52:01.748962Z",
     "iopub.status.idle": "2020-10-26T09:52:01.757380Z",
     "shell.execute_reply": "2020-10-26T09:52:01.756149Z"
    },
    "papermill": {
     "duration": 0.074676,
     "end_time": "2020-10-26T09:52:01.757579",
     "exception": false,
     "start_time": "2020-10-26T09:52:01.682903",
     "status": "completed"
    },
    "tags": []
   },
   "outputs": [
    {
     "name": "stdout",
     "output_type": "stream",
     "text": [
      "|            Variable Name|    Memory|\n",
      " ------------------------------------ \n",
      "|            EarlyStopping|      1064|\n",
      "|                       In|       352|\n",
      "|                      Out|       376|\n",
      "|               Sequential|      1064|\n",
      "|                        X| 750000144|\n",
      "|                   X_test| 150000144|\n",
      "|            X_test_scaled|1200000144|\n",
      "|                  X_train| 600000144|\n",
      "|           X_train_scaled|4800000144|\n",
      "|                    angle|        28|\n",
      "|                   angles|       488|\n",
      "|                   center|        72|\n",
      "|                      cv2|        88|\n",
      "|                 disp_img|       144|\n",
      "|                     exit|        64|\n",
      "|              get_ipython|        72|\n",
      "|                     glob|        88|\n",
      "|                        i|        28|\n",
      "|                id_kitani|    240096|\n",
      "|                   id_mao|    560096|\n",
      "|                      img|      7628|\n",
      "|                  img_RGB|      7628|\n",
      "|                  img_hsv|      7628|\n",
      "|               img_rotate|      7628|\n",
      "|                   kitani| 225000144|\n",
      "|                   layers|        88|\n",
      "|                        m|        88|\n",
      "|                      mao| 525000144|\n",
      "|                    meido|        24|\n",
      "|                       np|        88|\n",
      "|                 np_utils|        88|\n",
      "|                       os|        88|\n",
      "|              path_kitani|       992|\n",
      "|                 path_mao|      1808|\n",
      "|                       pd|        88|\n",
      "|                      plt|        88|\n",
      "|                     quit|        64|\n",
      "|                        s|        88|\n",
      "|                    saido|        24|\n",
      "|                     size|        72|\n",
      "|                      sys|        88|\n",
      "|         train_test_split|       144|\n",
      "|                    trans|       160|\n",
      "|                        y|    800096|\n",
      "|                 y_kitani|    240096|\n",
      "|                    y_mao|    560096|\n",
      "|                   y_test|    160096|\n",
      "|               y_test_cat|       112|\n",
      "|                  y_train|    640096|\n",
      "|              y_train_cat|       112|\n"
     ]
    }
   ],
   "source": [
    "# メモリが足りないので必要ない変数を削除\n",
    "\n",
    "import sys\n",
    "\n",
    "print(\"{}{: >25}{}{: >10}{}\".format('|','Variable Name','|','Memory','|'))\n",
    "print(\" ------------------------------------ \")\n",
    "for var_name in dir():\n",
    "    if not var_name.startswith(\"_\"):\n",
    "        print(\"{}{: >25}{}{: >10}{}\".format('|',var_name,'|',sys.getsizeof(eval(var_name)),'|'))"
   ]
  },
  {
   "cell_type": "code",
   "execution_count": 33,
   "metadata": {
    "execution": {
     "iopub.execute_input": "2020-10-26T09:52:01.883683Z",
     "iopub.status.busy": "2020-10-26T09:52:01.881242Z",
     "iopub.status.idle": "2020-10-26T09:52:01.887703Z",
     "shell.execute_reply": "2020-10-26T09:52:01.886821Z"
    },
    "papermill": {
     "duration": 0.071382,
     "end_time": "2020-10-26T09:52:01.887844",
     "exception": false,
     "start_time": "2020-10-26T09:52:01.816462",
     "status": "completed"
    },
    "tags": []
   },
   "outputs": [],
   "source": [
    "del X, X_test, X_train, id_kitani, id_mao, kitani, mao, y, y_kitani, y_mao, y_test, y_train"
   ]
  },
  {
   "cell_type": "code",
   "execution_count": 34,
   "metadata": {
    "execution": {
     "iopub.execute_input": "2020-10-26T09:52:02.023949Z",
     "iopub.status.busy": "2020-10-26T09:52:02.013073Z",
     "iopub.status.idle": "2020-10-26T09:52:02.330338Z",
     "shell.execute_reply": "2020-10-26T09:52:02.329636Z"
    },
    "papermill": {
     "duration": 0.385194,
     "end_time": "2020-10-26T09:52:02.330483",
     "exception": false,
     "start_time": "2020-10-26T09:52:01.945289",
     "status": "completed"
    },
    "tags": []
   },
   "outputs": [
    {
     "name": "stdout",
     "output_type": "stream",
     "text": [
      "Model: \"sequential\"\n",
      "_________________________________________________________________\n",
      "Layer (type)                 Output Shape              Param #   \n",
      "=================================================================\n",
      "conv2d (Conv2D)              (None, 50, 50, 32)        1568      \n",
      "_________________________________________________________________\n",
      "max_pooling2d (MaxPooling2D) (None, 25, 25, 32)        0         \n",
      "_________________________________________________________________\n",
      "conv2d_1 (Conv2D)            (None, 25, 25, 16)        8208      \n",
      "_________________________________________________________________\n",
      "dropout (Dropout)            (None, 25, 25, 16)        0         \n",
      "_________________________________________________________________\n",
      "conv2d_2 (Conv2D)            (None, 22, 22, 8)         2056      \n",
      "_________________________________________________________________\n",
      "max_pooling2d_1 (MaxPooling2 (None, 11, 11, 8)         0         \n",
      "_________________________________________________________________\n",
      "dropout_1 (Dropout)          (None, 11, 11, 8)         0         \n",
      "_________________________________________________________________\n",
      "conv2d_3 (Conv2D)            (None, 8, 8, 4)           516       \n",
      "_________________________________________________________________\n",
      "max_pooling2d_2 (MaxPooling2 (None, 4, 4, 4)           0         \n",
      "_________________________________________________________________\n",
      "flatten (Flatten)            (None, 64)                0         \n",
      "_________________________________________________________________\n",
      "dense (Dense)                (None, 32)                2080      \n",
      "_________________________________________________________________\n",
      "dense_1 (Dense)              (None, 10)                330       \n",
      "_________________________________________________________________\n",
      "dense_2 (Dense)              (None, 2)                 22        \n",
      "=================================================================\n",
      "Total params: 14,780\n",
      "Trainable params: 14,780\n",
      "Non-trainable params: 0\n",
      "_________________________________________________________________\n"
     ]
    }
   ],
   "source": [
    "cnn = Sequential()\n",
    "\n",
    "# 50x50x3 -> 50x50x32\n",
    "cnn.add(layers.Conv2D(32, kernel_size=(4,4), strides=(1,1), padding=\"same\", activation=\"relu\", input_shape=(50,50,3)))\n",
    "# 50x50x32 -> 25x25x32\n",
    "cnn.add(layers.MaxPooling2D(pool_size=(2,2), strides=None))\n",
    "# 25x25x32 -> 25x25x16\n",
    "cnn.add(layers.Conv2D(16, kernel_size=(4,4), strides=(1,1), padding=\"same\", activation=\"relu\"))\n",
    "cnn.add(layers.Dropout(0.2))\n",
    "# 25x25x16 -> 22x22x8\n",
    "cnn.add(layers.Conv2D(8, kernel_size=(4,4), strides=(1,1), padding=\"valid\", activation=\"relu\"))\n",
    "# 22x22x8 -> 11x11x8\n",
    "cnn.add(layers.MaxPooling2D(pool_size=(2,2), strides=None, padding=\"same\"))\n",
    "cnn.add(layers.Dropout(0.2))\n",
    "# 11x11x8 -> 8x8x4\n",
    "cnn.add(layers.Conv2D(4, kernel_size=(4,4), strides=(1,1), padding=\"valid\", activation=\"relu\"))\n",
    "# 8x8x4 -> 4x4x4\n",
    "cnn.add(layers.MaxPooling2D(pool_size=(2,2), strides=None, padding=\"same\"))\n",
    "\n",
    "# 4x4x4 -> 64\n",
    "cnn.add(layers.Flatten())\n",
    "# 64 -> 32\n",
    "cnn.add(layers.Dense(32, activation=\"relu\"))\n",
    "# 32 -> 10\n",
    "cnn.add(layers.Dense(10, activation=\"relu\"))\n",
    "# 10 -> 2\n",
    "cnn.add(layers.Dense(2, activation=\"softmax\"))\n",
    "\n",
    "cnn.compile(optimizer=\"adam\", loss=\"categorical_crossentropy\", metrics=[\"accuracy\"])\n",
    "cnn.summary()"
   ]
  },
  {
   "cell_type": "code",
   "execution_count": 35,
   "metadata": {
    "execution": {
     "iopub.execute_input": "2020-10-26T09:52:02.454001Z",
     "iopub.status.busy": "2020-10-26T09:52:02.452804Z",
     "iopub.status.idle": "2020-10-26T10:15:14.185417Z",
     "shell.execute_reply": "2020-10-26T10:15:14.183866Z"
    },
    "papermill": {
     "duration": 1391.797726,
     "end_time": "2020-10-26T10:15:14.185649",
     "exception": false,
     "start_time": "2020-10-26T09:52:02.387923",
     "status": "completed"
    },
    "tags": []
   },
   "outputs": [
    {
     "name": "stdout",
     "output_type": "stream",
     "text": [
      "Epoch 1/500\n",
      "800/800 [==============================] - 199s 249ms/step - loss: 0.0830 - accuracy: 0.9638 - val_loss: 0.0012 - val_accuracy: 0.9998\n",
      "Epoch 2/500\n",
      "800/800 [==============================] - 197s 247ms/step - loss: 0.0040 - accuracy: 0.9989 - val_loss: 3.2070e-04 - val_accuracy: 1.0000\n",
      "Epoch 3/500\n",
      "800/800 [==============================] - 197s 246ms/step - loss: 0.0019 - accuracy: 0.9994 - val_loss: 2.2342e-04 - val_accuracy: 0.9999\n",
      "Epoch 4/500\n",
      "800/800 [==============================] - 197s 246ms/step - loss: 0.0023 - accuracy: 0.9994 - val_loss: 2.7696e-04 - val_accuracy: 1.0000\n",
      "Epoch 5/500\n",
      "800/800 [==============================] - 198s 248ms/step - loss: 5.3149e-04 - accuracy: 0.9998 - val_loss: 4.1498e-05 - val_accuracy: 1.0000\n",
      "Epoch 6/500\n",
      "800/800 [==============================] - 198s 247ms/step - loss: 0.0016 - accuracy: 0.9995 - val_loss: 4.8697e-04 - val_accuracy: 1.0000\n",
      "Epoch 7/500\n",
      "800/800 [==============================] - 199s 248ms/step - loss: 2.2538e-04 - accuracy: 0.9999 - val_loss: 5.0162e-06 - val_accuracy: 1.0000\n"
     ]
    }
   ],
   "source": [
    "callbacks = [EarlyStopping(monitor=\"val_accuracy\", patience=5)]\n",
    "\n",
    "his = cnn.fit(x=X_train_scaled,\n",
    "              y=y_train_cat,\n",
    "              epochs=500,\n",
    "              batch_size=100,\n",
    "              verbose=1,\n",
    "              callbacks=callbacks,\n",
    "              validation_data=(X_test_scaled, y_test_cat))"
   ]
  },
  {
   "cell_type": "markdown",
   "metadata": {
    "papermill": {
     "duration": 2.333889,
     "end_time": "2020-10-26T10:15:18.896262",
     "exception": false,
     "start_time": "2020-10-26T10:15:16.562373",
     "status": "completed"
    },
    "tags": []
   },
   "source": [
    "## 判別できるか検証"
   ]
  },
  {
   "cell_type": "code",
   "execution_count": 36,
   "metadata": {
    "execution": {
     "iopub.execute_input": "2020-10-26T10:15:23.585427Z",
     "iopub.status.busy": "2020-10-26T10:15:23.584291Z",
     "iopub.status.idle": "2020-10-26T10:15:23.589064Z",
     "shell.execute_reply": "2020-10-26T10:15:23.588447Z"
    },
    "papermill": {
     "duration": 2.331328,
     "end_time": "2020-10-26T10:15:23.589196",
     "exception": false,
     "start_time": "2020-10-26T10:15:21.257868",
     "status": "completed"
    },
    "tags": []
   },
   "outputs": [],
   "source": [
    "def judge(path):\n",
    "    img = cv2.imread(path)\n",
    "    img = cv2.cvtColor(img, cv2.COLOR_BGR2RGB)\n",
    "    img = cv2.resize(img, (50, 50))\n",
    "    \n",
    "    plt.imshow(img)\n",
    "    plt.show()\n",
    "    \n",
    "    img = img.reshape(1, 50, 50, 3)\n",
    "    img_scaled = img / 255\n",
    "    \n",
    "    pred = cnn.predict(img_scaled)    # 予測\n",
    "    result = np.argmax(pred)    # 0or1に変換\n",
    "    \n",
    "    # 1=mao, 0=kitani\n",
    "    if result == 1:\n",
    "        print(\"これは笹川真生\")\n",
    "    else:\n",
    "        print(\"これはキタニタツヤ\")"
   ]
  },
  {
   "cell_type": "code",
   "execution_count": 37,
   "metadata": {
    "execution": {
     "iopub.execute_input": "2020-10-26T10:15:28.287458Z",
     "iopub.status.busy": "2020-10-26T10:15:28.286701Z",
     "iopub.status.idle": "2020-10-26T10:15:28.990086Z",
     "shell.execute_reply": "2020-10-26T10:15:28.989367Z"
    },
    "papermill": {
     "duration": 3.036849,
     "end_time": "2020-10-26T10:15:28.990244",
     "exception": false,
     "start_time": "2020-10-26T10:15:25.953395",
     "status": "completed"
    },
    "tags": []
   },
   "outputs": [
    {
     "data": {
      "image/png": "[encoded data removed]",
      "text/plain": [
       "<Figure size 432x288 with 1 Axes>"
      ]
     },
     "metadata": {
      "needs_background": "light"
     },
     "output_type": "display_data"
    },
    {
     "name": "stdout",
     "output_type": "stream",
     "text": [
      "これは笹川真生\n"
     ]
    }
   ],
   "source": [
    "judge(path_mao[45])"
   ]
  },
  {
   "cell_type": "code",
   "execution_count": 38,
   "metadata": {
    "execution": {
     "iopub.execute_input": "2020-10-26T10:15:33.719247Z",
     "iopub.status.busy": "2020-10-26T10:15:33.718445Z",
     "iopub.status.idle": "2020-10-26T10:15:33.963206Z",
     "shell.execute_reply": "2020-10-26T10:15:33.962538Z"
    },
    "papermill": {
     "duration": 2.609102,
     "end_time": "2020-10-26T10:15:33.963350",
     "exception": false,
     "start_time": "2020-10-26T10:15:31.354248",
     "status": "completed"
    },
    "tags": []
   },
   "outputs": [
    {
     "data": {
      "image/png": "[encoded data removed]",
      "text/plain": [
       "<Figure size 432x288 with 1 Axes>"
      ]
     },
     "metadata": {
      "needs_background": "light"
     },
     "output_type": "display_data"
    },
    {
     "name": "stdout",
     "output_type": "stream",
     "text": [
      "これはキタニタツヤ\n"
     ]
    }
   ],
   "source": [
    "judge(path_kitani[98])"
   ]
  },
  {
   "cell_type": "code",
   "execution_count": 39,
   "metadata": {
    "execution": {
     "iopub.execute_input": "2020-10-26T10:15:38.595541Z",
     "iopub.status.busy": "2020-10-26T10:15:38.594737Z",
     "iopub.status.idle": "2020-10-26T10:15:38.814850Z",
     "shell.execute_reply": "2020-10-26T10:15:38.814026Z"
    },
    "papermill": {
     "duration": 2.531166,
     "end_time": "2020-10-26T10:15:38.814983",
     "exception": false,
     "start_time": "2020-10-26T10:15:36.283817",
     "status": "completed"
    },
    "tags": []
   },
   "outputs": [
    {
     "data": {
      "image/png": "[encoded data removed]",
      "text/plain": [
       "<Figure size 432x288 with 1 Axes>"
      ]
     },
     "metadata": {
      "needs_background": "light"
     },
     "output_type": "display_data"
    },
    {
     "name": "stdout",
     "output_type": "stream",
     "text": [
      "これは笹川真生\n"
     ]
    }
   ],
   "source": [
    "judge(path_mao[0])"
   ]
  },
  {
   "cell_type": "code",
   "execution_count": 40,
   "metadata": {
    "execution": {
     "iopub.execute_input": "2020-10-26T10:15:43.639484Z",
     "iopub.status.busy": "2020-10-26T10:15:43.638286Z",
     "iopub.status.idle": "2020-10-26T10:15:43.891755Z",
     "shell.execute_reply": "2020-10-26T10:15:43.890957Z"
    },
    "papermill": {
     "duration": 2.754278,
     "end_time": "2020-10-26T10:15:43.891887",
     "exception": false,
     "start_time": "2020-10-26T10:15:41.137609",
     "status": "completed"
    },
    "tags": []
   },
   "outputs": [
    {
     "data": {
      "image/png": "[encoded data removed]",
      "text/plain": [
       "<Figure size 432x288 with 1 Axes>"
      ]
     },
     "metadata": {
      "needs_background": "light"
     },
     "output_type": "display_data"
    },
    {
     "name": "stdout",
     "output_type": "stream",
     "text": [
      "これは笹川真生\n"
     ]
    }
   ],
   "source": [
    "judge(path_mao[21])"
   ]
  },
  {
   "cell_type": "code",
   "execution_count": 41,
   "metadata": {
    "execution": {
     "iopub.execute_input": "2020-10-26T10:15:48.560665Z",
     "iopub.status.busy": "2020-10-26T10:15:48.559879Z",
     "iopub.status.idle": "2020-10-26T10:15:48.799542Z",
     "shell.execute_reply": "2020-10-26T10:15:48.800152Z"
    },
    "papermill": {
     "duration": 2.571938,
     "end_time": "2020-10-26T10:15:48.800332",
     "exception": false,
     "start_time": "2020-10-26T10:15:46.228394",
     "status": "completed"
    },
    "tags": []
   },
   "outputs": [
    {
     "data": {
      "image/png": "[encoded data removed]",
      "text/plain": [
       "<Figure size 432x288 with 1 Axes>"
      ]
     },
     "metadata": {
      "needs_background": "light"
     },
     "output_type": "display_data"
    },
    {
     "name": "stdout",
     "output_type": "stream",
     "text": [
      "これはキタニタツヤ\n"
     ]
    }
   ],
   "source": [
    "judge(path_kitani[55])"
   ]
  },
  {
   "cell_type": "code",
   "execution_count": null,
   "metadata": {
    "papermill": {
     "duration": 2.416243,
     "end_time": "2020-10-26T10:15:53.536786",
     "exception": false,
     "start_time": "2020-10-26T10:15:51.120543",
     "status": "completed"
    },
    "tags": []
   },
   "outputs": [],
   "source": []
  }
 ],
 "metadata": {
  "kernelspec": {
   "display_name": "Python 3",
   "language": "python",
   "name": "python3"
  },
  "language_info": {
   "codemirror_mode": {
    "name": "ipython",
    "version": 3
   },
   "file_extension": ".py",
   "mimetype": "text/x-python",
   "name": "python",
   "nbconvert_exporter": "python",
   "pygments_lexer": "ipython3",
   "version": "3.7.6"
  },
  "papermill": {
   "duration": 1484.849931,
   "end_time": "2020-10-26T10:15:56.159508",
   "environment_variables": {},
   "exception": null,
   "input_path": "__notebook__.ipynb",
   "output_path": "__notebook__.ipynb",
   "parameters": {},
   "start_time": "2020-10-26T09:51:11.309577",
   "version": "2.1.0"
  }
 },
 "nbformat": 4,
 "nbformat_minor": 4
}
